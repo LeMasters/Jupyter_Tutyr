{
 "cells": [
  {
   "cell_type": "markdown",
   "metadata": {},
   "source": [
    "Here's a couple more bite-sized tutorial chunks.  Make sure you do the work along with the tutorial (e.g., type it out in your own copy of Jupyter... merely following along is nowhere near as efficient)."
   ]
  },
  {
   "cell_type": "markdown",
   "metadata": {},
   "source": [
    "## Lists:  How Do They Work?"
   ]
  },
  {
   "attachments": {
    "tardis.png": {
     "image/png": "[encoded data removed]"
    }
   },
   "cell_type": "markdown",
   "metadata": {},
   "source": [
    "<img src=attachment:tardis.png align='left'>\n",
    "In our work with data, whether scraped from online or delivered to us with a bow, LISTS will be invaluable.  If you are familiar with the British science fiction series *Dr. Who*, then it might be useful to think of LISTS as working rather like his Police Call Box in space:  From the outside, the Doctor's time-and-space-traveling phonebooth looks just like any regular phonebooth.  About ten feet high and four feet wide:  \"Just enough space,\" you say to yourself, \"to store a single variable.\"\n",
    "\n",
    "\n",
    "But that's the genius of the booth's design:  Once you open the door and go *inside*, it seems to extend forever in all directions.  The INSIDE is bigger than the OUTSIDE by orders of magnitude.\n",
    "\n",
    "\"So it is with LISTS,\" he suggested, in a *segue* that seemed, well, *inevitable* by that point.  \n",
    "\n",
    "And so it is indeed with LISTS.  On the outside, they look like every other variable:  Small, neat, compact.  But internally, LISTS are something else altogether."
   ]
  },
  {
   "cell_type": "markdown",
   "metadata": {},
   "source": [
    "### Quick Refresher:  Variables"
   ]
  },
  {
   "cell_type": "markdown",
   "metadata": {},
   "source": [
    "Variables keep track of values for us:"
   ]
  },
  {
   "cell_type": "code",
   "execution_count": 2,
   "metadata": {},
   "outputs": [],
   "source": [
    "car_year = 2015\n",
    "avg_mpg = 39.9\n",
    "car_mfg = \"MINI\"\n",
    "car_model = \"Cooper\""
   ]
  },
  {
   "cell_type": "markdown",
   "metadata": {},
   "source": [
    "Once those values are stored, I can either *look* at them or *perform* with them:"
   ]
  },
  {
   "cell_type": "code",
   "execution_count": 3,
   "metadata": {},
   "outputs": [
    {
     "name": "stdout",
     "output_type": "stream",
     "text": [
      "2015\n"
     ]
    }
   ],
   "source": [
    "print(car_year)"
   ]
  },
  {
   "cell_type": "markdown",
   "metadata": {},
   "source": [
    "I can copy these values, too, and manipulate them:"
   ]
  },
  {
   "cell_type": "code",
   "execution_count": 5,
   "metadata": {},
   "outputs": [
    {
     "name": "stdout",
     "output_type": "stream",
     "text": [
      "Adjusted MPG:  43.89\n"
     ]
    }
   ],
   "source": [
    "new_mpg = avg_mpg * 1.1\n",
    "print(\"Adjusted MPG: \",new_mpg) # Use a comma to separate values when you print()"
   ]
  },
  {
   "cell_type": "markdown",
   "metadata": {},
   "source": [
    "I can turn join several values into one:"
   ]
  },
  {
   "cell_type": "code",
   "execution_count": 6,
   "metadata": {},
   "outputs": [
    {
     "name": "stdout",
     "output_type": "stream",
     "text": [
      "She drives a MINI Cooper.\n"
     ]
    }
   ],
   "source": [
    "car_name = car_mfg + ' ' + car_model # the ' ' is just a space!\n",
    "print(\"She drives a \" + car_name + '.') # the '.' is just a period!"
   ]
  },
  {
   "cell_type": "markdown",
   "metadata": {},
   "source": [
    "If I want to *concatenate* numbers with words, though, I have to use the `str()` function.  Your Jupyter Notebook sees numbers as having intrinsic value (for example:  \"2015\" implies a quantity of 2,015).  We have to tell Jupyter to see \"2015\" as though it were a word or a symbol.  Otherwise, those plus signs (+) will cause problems."
   ]
  },
  {
   "cell_type": "code",
   "execution_count": 7,
   "metadata": {},
   "outputs": [
    {
     "name": "stdout",
     "output_type": "stream",
     "text": [
      "She still drives a 2015 MINI Cooper\n"
     ]
    }
   ],
   "source": [
    "title = str(car_year) + ' ' + car_name\n",
    "print(\"She still drives a \" + title)"
   ]
  },
  {
   "cell_type": "markdown",
   "metadata": {},
   "source": [
    "## Lists"
   ]
  },
  {
   "cell_type": "markdown",
   "metadata": {},
   "source": [
    "But what happens when there is more than a single value?  This is, invariably, the case with everything computational.  Its what makes compputation special.  Multiplicity.\n",
    "\n",
    "Let's say we have not one car, but four:\n",
    "\n",
    "* Cooper\n",
    "* Rabbit\n",
    "* Scirroco\n",
    "* DeLorean\n",
    "\n",
    "It would be possible to store these values in four different variables, but tiresome and inefficient.  To wit:"
   ]
  },
  {
   "cell_type": "code",
   "execution_count": 8,
   "metadata": {},
   "outputs": [
    {
     "name": "stdout",
     "output_type": "stream",
     "text": [
      "Cooper Rabbit Scirrocco DeLorean\n"
     ]
    }
   ],
   "source": [
    "car1 = 'Cooper'\n",
    "car2 = 'Rabbit'\n",
    "car3 = 'Scirrocco'\n",
    "car4 = 'DeLorean'\n",
    "\n",
    "print(car1, car2, car3, car4)"
   ]
  },
  {
   "cell_type": "markdown",
   "metadata": {},
   "source": [
    "Instead, let's keep them all in the same LIST variable:"
   ]
  },
  {
   "cell_type": "code",
   "execution_count": 10,
   "metadata": {},
   "outputs": [
    {
     "name": "stdout",
     "output_type": "stream",
     "text": [
      "['Cooper', 'Rabbit', 'Scirroco', 'DeLorean']\n"
     ]
    }
   ],
   "source": [
    "cars = ['Cooper','Rabbit','Scirroco','DeLorean'] # notice the square brackets!\n",
    "print(cars) # this prints our whole list out."
   ]
  },
  {
   "cell_type": "markdown",
   "metadata": {},
   "source": [
    "Now, of course, we can access each element of the list separately by referring to its index inside some square brackets:"
   ]
  },
  {
   "cell_type": "code",
   "execution_count": 11,
   "metadata": {},
   "outputs": [
    {
     "name": "stdout",
     "output_type": "stream",
     "text": [
      "My Scirroco is faster than my Rabbit\n"
     ]
    }
   ],
   "source": [
    "print('My ' + cars[2] + ' is faster than my ' + cars[1])"
   ]
  },
  {
   "cell_type": "markdown",
   "metadata": {},
   "source": [
    "But we can also store that information in a way that simple variables won't allow."
   ]
  },
  {
   "cell_type": "code",
   "execution_count": 20,
   "metadata": {},
   "outputs": [
    {
     "name": "stdout",
     "output_type": "stream",
     "text": [
      "My DeLorean is faster than my Scirroco\n",
      "My Cooper is faster than my Rabbit\n"
     ]
    }
   ],
   "source": [
    "slow_car = 2\n",
    "fast_car = 3\n",
    "print('My ' + cars[fast_car] + ' is faster than my ' + cars[slow_car])\n",
    "slow_car = 1\n",
    "fast_car = 0\n",
    "print('My ' + cars[fast_car] + ' is faster than my ' + cars[slow_car])"
   ]
  },
  {
   "cell_type": "markdown",
   "metadata": {},
   "source": [
    "## Looping Lists"
   ]
  },
  {
   "cell_type": "markdown",
   "metadata": {},
   "source": [
    "This, then, is the cool part:  We can use LISTS to take advantage of the fact that computers excel at repetitive tasks.  Let's return to our list of cars, for example.  Every time we write the name of a car to the screen, the computer is doing (almost) the exact same repetitive task.  So we use a `for/in` statement to let the computer bear the burden of repetition."
   ]
  },
  {
   "cell_type": "code",
   "execution_count": 23,
   "metadata": {},
   "outputs": [
    {
     "name": "stdout",
     "output_type": "stream",
     "text": [
      "One can of red\n",
      "One can of maple\n",
      "One can of berry\n",
      "One can of banana\n",
      "One can of creamsicle\n",
      "One can of patent leather black\n",
      "One can of fudge\n",
      "One can of neutral grey\n"
     ]
    }
   ],
   "source": [
    "color_palette = ['red', 'maple', 'berry', 'banana', 'creamsicle', 'patent leather black', 'fudge', 'neutral grey']\n",
    "for paint_color in color_palette:\n",
    "    print (\"One can of \" + paint_color)"
   ]
  },
  {
   "cell_type": "markdown",
   "metadata": {},
   "source": [
    "The second line of that code is so important, and maybe a bit strange.  Where did \"paint_color\" come from?  How does it know what a paint_color is?  \n",
    "\n",
    "The answer is it doesn't know:  paint_color is just a counter, an iterator, a clicker -- it is how Python counts from 0 to 7 without losing its place.  For us, though, that counter (paint_color) has the added benefit of capturing a specific value from an indexed list.  So as Python counts from 0 to 7, it pulls the value stored in the color_palette list at that index and stores it in paint_color.  Which means our variable paint_color is automatically updated for as many different values as are contained in our list!"
   ]
  },
  {
   "cell_type": "markdown",
   "metadata": {},
   "source": [
    "Of course, paint_color doesn't have to be called paint_color.  That's just a convenience for us.  In conventional Python, a lot of programmers use the word 'item':"
   ]
  },
  {
   "cell_type": "code",
   "execution_count": 24,
   "metadata": {},
   "outputs": [
    {
     "name": "stdout",
     "output_type": "stream",
     "text": [
      "red\n",
      "maple\n",
      "berry\n",
      "banana\n",
      "creamsicle\n",
      "patent leather black\n",
      "fudge\n",
      "neutral grey\n"
     ]
    }
   ],
   "source": [
    "for item in color_palette:\n",
    "    print (item)"
   ]
  },
  {
   "cell_type": "markdown",
   "metadata": {},
   "source": [
    "Of course, we don't have to take every item from the list.  We can ask that Python only show items that meet certain specifications.  The function `len(String)`, for example, returns the number of letters in a String.  Let's say we just want to see the long words.  To do this, I'll add a CONDITIONAL (using the keyword \"IF\").  Every time that condition is met (is \"TRUE\"), Python will carry out the code indented below it.  If it isn't TRUE, Python just loops back to the top."
   ]
  },
  {
   "cell_type": "code",
   "execution_count": 25,
   "metadata": {},
   "outputs": [
    {
     "name": "stdout",
     "output_type": "stream",
     "text": [
      "banana\n",
      "creamsicle\n",
      "patent leather black\n",
      "neutral grey\n"
     ]
    }
   ],
   "source": [
    "for item in color_palette:\n",
    "    if len(item)>6:\n",
    "        print(item)    "
   ]
  },
  {
   "cell_type": "markdown",
   "metadata": {},
   "source": [
    "Or we could do the same for, say, 5 letter words:"
   ]
  },
  {
   "cell_type": "code",
   "execution_count": 26,
   "metadata": {},
   "outputs": [
    {
     "name": "stdout",
     "output_type": "stream",
     "text": [
      "maple\n",
      "berry\n",
      "fudge\n"
     ]
    }
   ],
   "source": [
    "for item in color_palette:\n",
    "    if len(item) == 5:\n",
    "        print(item)"
   ]
  },
  {
   "cell_type": "markdown",
   "metadata": {},
   "source": [
    "Note that the equals sign (above) is not what you're used to.  Human beings use equals signs for so many different reasons that we've had to come up with some clever ways of telling the computer what we mean.  So when we want to ASSIGN A VALUE to a variable, we tell Python:"
   ]
  },
  {
   "cell_type": "code",
   "execution_count": 27,
   "metadata": {},
   "outputs": [],
   "source": [
    "alpha = 10"
   ]
  },
  {
   "cell_type": "markdown",
   "metadata": {},
   "source": [
    "However, when we want to check on the value of a variable (say, the variable ALPHA), we're really asking Python to do very different work.  So we use two equals signs, like this:"
   ]
  },
  {
   "cell_type": "code",
   "execution_count": 28,
   "metadata": {},
   "outputs": [
    {
     "name": "stdout",
     "output_type": "stream",
     "text": [
      "Yes, alpha is ten.\n"
     ]
    }
   ],
   "source": [
    "if alpha == 10:\n",
    "    print (\"Yes, alpha is ten.\")"
   ]
  },
  {
   "cell_type": "markdown",
   "metadata": {},
   "source": [
    "I think of it thus:  I use one equals sign to assert a fact.  And I use two equals signs to ask a question."
   ]
  },
  {
   "cell_type": "markdown",
   "metadata": {},
   "source": [
    "### Next Up:  Sorting and CSVs"
   ]
  }
 ],
 "metadata": {
  "kernelspec": {
   "display_name": "Python 3",
   "language": "python",
   "name": "python3"
  },
  "language_info": {
   "codemirror_mode": {
    "name": "ipython",
    "version": 3
   },
   "file_extension": ".py",
   "mimetype": "text/x-python",
   "name": "python",
   "nbconvert_exporter": "python",
   "pygments_lexer": "ipython3",
   "version": "3.6.3"
  }
 },
 "nbformat": 4,
 "nbformat_minor": 2
}
