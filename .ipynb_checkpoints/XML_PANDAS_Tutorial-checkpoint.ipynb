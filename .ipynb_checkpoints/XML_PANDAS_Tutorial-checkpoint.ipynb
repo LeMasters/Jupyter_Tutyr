{
 "cells": [
  {
   "cell_type": "markdown",
   "metadata": {},
   "source": [
    "### This little tutorial means to further acquaint you with Python, its data science libraries, and Jupyter Notebook.  It is also keen on better understanding one of the data formats that likely comprise a significant part of your future:  .XML"
   ]
  },
  {
   "cell_type": "markdown",
   "metadata": {},
   "source": [
    "At the same time, it tries to contextualize all of this work with how data science actually gets done, and what it can look like *en route*.  This is a lot to take in all at once, I know.  But, in my small opinion, you cannot separate lessons in *doing data science* from lessons in *programming* from a *working knowledge* of where and how our data lives.  These three components have to inform one another, or there is no point going forward."
   ]
  },
  {
   "cell_type": "markdown",
   "metadata": {
    "slideshow": {
     "slide_type": "-"
    }
   },
   "source": [
    "I suggest that you work along with this Jupyter Notebook tutorial by opening up your own notebook (with a Python 3 kernal) and building each section as you make sense of it.  Don't hesitate to break things, add things, go off in your own direction.  Remember:  This is the advantage of the digital Notebook format.  Don't get stuck in *pen-and-ink-think.*"
   ]
  },
  {
   "cell_type": "markdown",
   "metadata": {},
   "source": [
    "## ONE"
   ]
  },
  {
   "cell_type": "markdown",
   "metadata": {},
   "source": [
    "You're going to need an iTunes **.plist** (preferences list) file for this exercise.  Its actually a version of an .XML file.  In case you don't have one handy, or if you'd prefer to work along with the same one I'm using, I happen to have a copy of it right here for download.\n",
    "\n",
    "[download drm_itunes.xml](drm_itunes.xml)\n",
    "\n",
    "*Like most .xml files, this is just a flatfile:  It doesn't actually contain any of the music to which it refers.*"
   ]
  },
  {
   "cell_type": "markdown",
   "metadata": {},
   "source": [
    "## TWO"
   ]
  },
  {
   "cell_type": "markdown",
   "metadata": {},
   "source": [
    "This week, Jupyter Notebook is again our weapon of choice."
   ]
  },
  {
   "cell_type": "markdown",
   "metadata": {},
   "source": [
    "## THREE"
   ]
  },
  {
   "cell_type": "markdown",
   "metadata": {},
   "source": [
    "#### Data Handling"
   ]
  },
  {
   "cell_type": "markdown",
   "metadata": {},
   "source": [
    "Don't forget:  *Never work on the original copy of a data file*.  You will regret that decision.  If you're using your own music.xml file, make a duplicate, *leaving the original untouched and unmoved.*"
   ]
  },
  {
   "cell_type": "markdown",
   "metadata": {},
   "source": [
    "Rename your copy of the file in order to mark it as a disposable working copy:  Say, `myiTunesData.xml`.  Make note of that in your processing book.  (These ostensibly *disposable* copies really add up over time.  I found yesterday that I had 4 copies of the (awesome) NYC TaxiCab GPS dataset (January 2016 edition); each copy is just over 2GB in size.)"
   ]
  },
  {
   "cell_type": "markdown",
   "metadata": {},
   "source": [
    "Now from Mac's Finder or Window's Explorer (or the command line, if you're feeling adventuresome), move your `.xml` datafile into the same directory that now contains your Jupyter file.  In my case, for example, `.iTunesPlotter.ipynb` and `itunes_gwl.xml` are both safely stored in the same directory:\n",
    "\n",
    "    Users/garrisonlemasters/Documents/AnacondaProjects/iTunes/"
   ]
  },
  {
   "cell_type": "markdown",
   "metadata": {},
   "source": [
    "The `.xml` file does not *have* to be in the same directory as the Jupyter notebook (the .ipynb file), but it makes life much easier."
   ]
  },
  {
   "cell_type": "markdown",
   "metadata": {},
   "source": [
    "**Q:**  *Doesn't all of this seem like a lot of administrative work?*\n",
    "\n",
    "**A:**  It probably only seems that way because **it is a lot of administrative work**.  Doing data science means learning to love file versioning systems, duplication macros, RAID arrays and redundant storage systems.  It means you fantasize about off-site storage and data firehoses.  Do a good job keeping track of your data and the rest will follow."
   ]
  },
  {
   "cell_type": "markdown",
   "metadata": {},
   "source": [
    "## FOUR"
   ]
  },
  {
   "cell_type": "markdown",
   "metadata": {},
   "source": [
    "Let's look at the file we want to ingest and manipulate.  As we can tell from the file extension and from the file header, it is an .XML file.  Here's the header:"
   ]
  },
  {
   "cell_type": "markdown",
   "metadata": {},
   "source": [
    "```\n",
    "<?xml version=\"1.0\" encoding=\"UTF-8\"?>\n",
    "<!DOCTYPE plist PUBLIC \"-//Apple Computer//DTD PLIST 1.0//EN\" \"http://www.apple.com/DTDs/PropertyList-1.0.dtd\">\n",
    "<plist version=\"1.0\">\n",
    "```"
   ]
  },
  {
   "cell_type": "markdown",
   "metadata": {},
   "source": [
    "One of the principles to which .XML files adhere is that their headers point to a place on the web where someone maintains the file's schema:  That is, a detailed description of how the file is organized.  That's the second line (above), the one that begins !DOCTYPE and ends with the standard file extension for XML schema, .dtd."
   ]
  },
  {
   "cell_type": "markdown",
   "metadata": {},
   "source": [
    "Apple -- like many companies -- uses the .XML standard, but doesn't always adhere to the standards themselves.  This is usually annoying.  In this case, it means that the file is easier for us to interpret, but less easily interpreted by Python.  To understand why, let's talk about dictionaries."
   ]
  },
  {
   "cell_type": "markdown",
   "metadata": {},
   "source": [
    "In computation, a DICTIONARY is a fairly simple way of storing information.  It is called a dictionary because it roughly mimics the way a dictionary stores data:  With a unique term on the left-hand side of the page and one or more definitions on the right-hand side.  When we consult a dictionary, we always know the term that we're looking for:  "
   ]
  },
  {
   "cell_type": "markdown",
   "metadata": {},
   "source": [
    "Doing extensive work with an unfamiliar library, data format, or hardware?  Keep a notebook or a webpage with all of the relevant links to tutorials, src code, and (ideally) the developers' docs.  For decades, documentation of code has been abysmal:  But it has gotten to the point that some documentation is genuinely useful now.  [Here is one page](https://developer.apple.com/legacy/library/documentation/Darwin/Reference/ManPages/man5/plist.5.html), for example, that Apple maintains on its use of XML in PLIST formats.  And [here is a page devoted to the Python Software Foundation's plistlib](https://docs.python.org/3/library/plistlib.html).  The changelog that appears right above the yellow box on that page hints at the terrific difficulties that even the best documentation is hard-pressed to ameliorate:  \"Changed in version 3.4: New API, old API deprecated. Support for binary format plists added.\"  While the shift from 3.3 to 3.4 doesn't *seem* like much, the 3.4 library is effectively completely new."
   ]
  },
  {
   "cell_type": "markdown",
   "metadata": {},
   "source": [
    "## Process"
   ]
  },
  {
   "cell_type": "code",
   "execution_count": null,
   "metadata": {},
   "outputs": [],
   "source": [
    "import plistlib"
   ]
  },
  {
   "cell_type": "code",
   "execution_count": null,
   "metadata": {},
   "outputs": [],
   "source": [
    "fileName = 'drm_itunes.xml'"
   ]
  },
  {
   "cell_type": "code",
   "execution_count": null,
   "metadata": {},
   "outputs": [],
   "source": [
    "myFileObject = open(fileName, 'rb')"
   ]
  },
  {
   "cell_type": "markdown",
   "metadata": {},
   "source": [
    "This statement opens our file (fileName) as a Read-Only file ('r') in Binary mode ('b').  \"Oh no you didn't\", you'll complain: \"What's this yer on about now, *binary*?  I thought if I could read the file, it was a *plaintext* file -- and I can bloody well read this `.xml` file just fine, *gov'nuh*, I do thank ye very much.  It isn't binary!\"\n",
    "\n",
    "Well, yes:  *How colorful you are!*  And how *right* you are!  \n",
    "\n",
    "Or rather, right you *were,* because at the same time that we opened the file, we were also asking Python to *convert it* into a binary object right away:  The 'b' for Binary didn't reflect the nature of the file -- \"Python, open that file, and be careful, its in BINARY!\".  Instead, it told Python how we want it to treat the data it finds inside:  \"Python, open that file, and store it as binary data, right away!\""
   ]
  },
  {
   "cell_type": "markdown",
   "metadata": {},
   "source": [
    "So the obvious question is:  Why?  Why change the 'stream' of information from a legible (human-readable) stream of letters to a stream of 1's and 0's?  \n",
    "\n",
    "The answer isn't that interesting, in truth:  In our case, we do that because the library we're about to use -- Python's `plistlib` -- wants its data delivered as a binary stream.\n",
    "\n",
    "And so that is exactly what we've done with our `open(filename, 'rb')` statement:  We've asked Python to take our file full of song titles and singer's names and convert them all to a stream of binary digits.  Python obliges by converting the data, and then it packages it up inside an `object` called an \\_io.BufferedReader:  Basically, *a high-tech chrome-and-carbon-fiber box*, full of bells and whistles that make it easier for us to get immediate access to lots of data, quickly."
   ]
  },
  {
   "cell_type": "markdown",
   "metadata": {},
   "source": [
    "We can get a quick overview of the `myFileObject` object if we `print()` it to our screen:"
   ]
  },
  {
   "cell_type": "code",
   "execution_count": null,
   "metadata": {},
   "outputs": [],
   "source": [
    "    print(myFileObject)"
   ]
  },
  {
   "cell_type": "markdown",
   "metadata": {},
   "source": [
    "Our high-tech box, filled with liquid data, is called a BufferedReader.  "
   ]
  },
  {
   "cell_type": "markdown",
   "metadata": {},
   "source": [
    "So: Python knows how to pull data in and push data out (*its all 1's and 0's at this point, after all*).  But we usually need one or more external libraries if we're going to make automated sense of that data at all.  In our case, Python already has a plist library (called, appropriately enough, `plistlib`) ready to go.  *(Note that there are other libraries that would also work here, like the XML parsing library; but plistlib is custom-made for Apple-style data, which suits us perfectly.)*\n",
    "\n",
    "When we use one of the tools in the library (in this case, `load` is a 'method' -- an action, a verb -- stored inside our `.plistlib`), we need to tell Python that we are using a tool *from that library*.  We've done this sort of thing before.  In this case, it looks like this:"
   ]
  },
  {
   "cell_type": "code",
   "execution_count": null,
   "metadata": {},
   "outputs": [],
   "source": [
    "    songLibraryData = plistlib.load(myFileObject)"
   ]
  },
  {
   "cell_type": "markdown",
   "metadata": {},
   "source": [
    "Remember:  In the code above, `songLibraryData` and `myFileObject` are both variables:  We want Python to 'read between the lines,' not to interpret those words literally.  Because of that, we do NOT use quotes around them.  If I put quotes around `myFileObject`, for example, Python would think that the phrase `myFileObject` was important.  In this case, it clearly is not:  The *value contained within that variable* is what matters."
   ]
  },
  {
   "cell_type": "markdown",
   "metadata": {},
   "source": [
    "Python asks the plist library to take a look at that binary stream of data we opened up; if it recognizes how things are organized, we're in luck!\n",
    "\n",
    "Let's see what we've got:  What does `songLibraryData` look like?"
   ]
  },
  {
   "cell_type": "code",
   "execution_count": null,
   "metadata": {},
   "outputs": [],
   "source": [
    "print(songLibraryData)"
   ]
  },
  {
   "cell_type": "markdown",
   "metadata": {},
   "source": [
    "A good sign!\n",
    "\n",
    "We can read it!  \n",
    "\n",
    "Sort of, at least.  Take a moment and compare what you see rendered by the plistlib with the original text of the .xml file (below).  You can see that there have been some significant changes:  The **header** is gone; in the processed code, single quotes (above) have replaced most tags (below).  And so on."
   ]
  },
  {
   "cell_type": "markdown",
   "metadata": {},
   "source": [
    "    <?xml version=\"1.0\" encoding=\"UTF-8\"?>\n",
    "    <!DOCTYPE plist PUBLIC \"-//Apple Computer//DTD PLIST 1.0//EN\" \"http://www.apple.com/DTDs/PropertyList-1.0.dtd\">\n",
    "    <plist version=\"1.0\">\n",
    "    <dict>\n",
    "        <key>Major Version</key><integer>1</integer>\n",
    "        <key>Minor Version</key><integer>1</integer>\n",
    "        <key>Date</key><date>2018-02-08T16:16:42Z</date>\n",
    "        <key>Application Version</key><string>12.7.3.46</string>\n",
    "        <key>Features</key><integer>5</integer>\n",
    "        <key>Show Content Ratings</key><true/>"
   ]
  },
  {
   "cell_type": "code",
   "execution_count": null,
   "metadata": {},
   "outputs": [],
   "source": [
    "import plistlib\n",
    "import pandas"
   ]
  },
  {
   "cell_type": "code",
   "execution_count": null,
   "metadata": {},
   "outputs": [],
   "source": [
    "fileName = 'drm_itunes.xml'\n",
    "myFileObject = open(fileName, 'rb')\n",
    "songLibraryData = plistlib.load(myFileObject)"
   ]
  },
  {
   "cell_type": "code",
   "execution_count": null,
   "metadata": {},
   "outputs": [],
   "source": [
    "# Prep the arrays to hold the lists of data\n",
    "# trackSerial will be where we store trackID:  The four-digit\n",
    "# code assigned each track inside the .xml file\n",
    "# The only non-obvious one is trackTime:\n",
    "# In the .xml, that is an integer describing the\n",
    "# the length of a song in milliseconds.\n",
    "# So for minutes, we need to divide by 1000\n",
    "# and then by 60...\n",
    "\n",
    "trackSerial=[]\n",
    "trackName=[]\n",
    "trackArtist=[]\n",
    "trackAlbum=[]\n",
    "trackTime = []\n",
    "trackYear = []"
   ]
  },
  {
   "cell_type": "code",
   "execution_count": null,
   "metadata": {},
   "outputs": [],
   "source": [
    "# If you look closely at the .xml file, you'll see\n",
    "# that most of the data is organized into sets of curly\n",
    "# braces.  If we look at the top-most name for those sets,\n",
    "# we see that it is 'Tracks'.  The library is organized\n",
    "# into units called 'Tracks'."
   ]
  },
  {
   "cell_type": "markdown",
   "metadata": {},
   "source": [
    "```\n",
    "{\n",
    "    'Major Version': 1, \n",
    "    'Minor Version': 1,\n",
    "    'Features': 5, \n",
    "    'Show Content Ratings': True, \n",
    "    'Tracks': {\n",
    "        '1494': {\n",
    "            'Track ID': 1494, \n",
    "            'Name': 'Take on Me', \n",
    "            'Artist': 'NO BS! Brass',\n",
    "            'Library Folder Count': 1\n",
    "             }, \n",
    "         '1496': {\n",
    "             'Track ID': 1496, \n",
    "             'Name': 'Splatter Splatter', \n",
    "             'Artist': 'Moxy Fruvous'...\n",
    "             }\n",
    "             ```"
   ]
  },
  {
   "cell_type": "markdown",
   "metadata": {},
   "source": [
    "Again, this is basically just a Dictionary, and everything is ordered in KVPs:  Key-Value Pairs.  The Key is the term you look up, and the Value is its definition.  They are separated by a colon.  \n",
    "\n",
    "THE TRICK HERE is that the VALUE of a KEY is frequently more than just a number or a word.  It often is, for example, a second KVP.  This sounds complicated.  It is not:  Just work backwards from our earlier metaphor:  If we use a dictionary to keep track of the meaning of each word, then how might we keep track of the different kinds of dictionaries we keep?  Right:  Inside a dictionary of dictionaries.\n",
    "\n",
    "The important thing is that everything resolves to a single K and a single V -- even if that single V is actually a pair of curly braces with lots and lots of messy things deep down inside it.  We just need to be sure that if we climb all the way to the top of the data set, we have one K for one V."
   ]
  },
  {
   "cell_type": "code",
   "execution_count": null,
   "metadata": {},
   "outputs": [],
   "source": [
    "# That's what we've got here.  'Tracks' is one of the topmost\n",
    "# Keys in our .XML file.  Inside the VALUE for that one Key\n",
    "# is our entire music collection.  So it makes sense that\n",
    "# it is the Key we want to open:\n",
    "tracks = songLibraryData['Tracks']"
   ]
  },
  {
   "cell_type": "code",
   "execution_count": null,
   "metadata": {},
   "outputs": [],
   "source": [
    "# in order to iterate through data, Python\n",
    "# prefers this for statement.  You'll see\n",
    "# it everywhere you go.\n",
    "\n",
    "# Here's an archetypal version of it:\n",
    "# for KEY, VALUE in DICTIONARY.items():\n",
    "# It just means \"Get a key and a value\n",
    "# from each item in this dictionary.\"\n",
    "\n",
    "# As I get each value, I \"append\" that\n",
    "# information to a list of similar data.\n",
    "# (Append just means \"add to the end\n",
    "# of the current list\").\n",
    "\n",
    "# So for trackYear, for example:\n",
    "# trackYear = ['1994']\n",
    "# and then trackYear.append('1999')\n",
    "# so trackYear = ['1994', '1999']\n",
    "# and then trackYear.append('2000')\n",
    "# so trackYear = ['1994', '1999', '2000']\n",
    "\n",
    "for trackID,track in tracks.items():\n",
    "    trackSerial.append(trackID)\n",
    "    trackName.append(track['Name'])\n",
    "    trackAlbum.append(track['Album'])\n",
    "    trackArtist.append(track['Artist'])\n",
    "    trackYear.append(track['Year'])\n",
    "    trackTime.append(track['Total Time'])"
   ]
  },
  {
   "cell_type": "code",
   "execution_count": null,
   "metadata": {},
   "outputs": [],
   "source": [
    "# Look at some random data\n",
    "print(trackName[2])\n",
    "print(trackAlbum[6])\n",
    "print(trackArtist[1])\n",
    "\n",
    "# Just a word of warning:  We're not slowing down\n",
    "# to bother with Error Checking, although we\n",
    "# probably should.  Because of that, if any of \n",
    "# our data is off-kilter or is missing a line or\n",
    "# two of values, everything will go to hell quickly.\n",
    "# With \"real\" data, you can't afford to skip\n",
    "# error-handling.  Here we can, because I've\n",
    "# pre-screened this dataset and I know it is\n",
    "# 100% complete."
   ]
  },
  {
   "cell_type": "code",
   "execution_count": null,
   "metadata": {},
   "outputs": [],
   "source": [
    "# You know why I love the PANDAS library so much?  \n",
    "# Because it always seems to work.  Plus I love\n",
    "# writing code that talks to pandas.\n",
    "\n",
    "TianTian = pandas.DataFrame({\n",
    "    'TrackID':trackSerial,\n",
    "    'Name':trackName,\n",
    "    'Album':trackAlbum,\n",
    "    'Artist':trackArtist,\n",
    "    'Year':trackYear,\n",
    "    'Duration':trackTime\n",
    "    })"
   ]
  },
  {
   "cell_type": "markdown",
   "metadata": {},
   "source": [
    "## The Payoff"
   ]
  },
  {
   "cell_type": "markdown",
   "metadata": {},
   "source": [
    "The payoff here is pretty great, I think.  Yes, it took a while to get here, but look at what we can do in a single line.  Below, I'm telling TianTian to sort his list by Year, and to add a bar graph to the Duration column, showing relative lengths of each song.'"
   ]
  },
  {
   "cell_type": "code",
   "execution_count": null,
   "metadata": {},
   "outputs": [],
   "source": [
    "TianTian.sort_values(by='Year').style.bar(subset='Duration', color='#ffcc33')"
   ]
  },
  {
   "cell_type": "code",
   "execution_count": null,
   "metadata": {},
   "outputs": [],
   "source": [
    "# Finally, saving from PANDAS is soooo easy:  Ready?\n",
    "TianTian.to_csv(\"myTunesData.csv\")    "
   ]
  }
 ],
 "metadata": {
  "celltoolbar": "Raw Cell Format",
  "kernelspec": {
   "display_name": "Python 3",
   "language": "python",
   "name": "python3"
  },
  "language_info": {
   "codemirror_mode": {
    "name": "ipython",
    "version": 3
   },
   "file_extension": ".py",
   "mimetype": "text/x-python",
   "name": "python",
   "nbconvert_exporter": "python",
   "pygments_lexer": "ipython3",
   "version": "3.6.4"
  }
 },
 "nbformat": 4,
 "nbformat_minor": 2
}
