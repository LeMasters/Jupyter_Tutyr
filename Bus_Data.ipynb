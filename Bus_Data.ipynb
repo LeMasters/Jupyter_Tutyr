{
 "cells": [
  {
   "cell_type": "code",
   "execution_count": 1,
   "metadata": {},
   "outputs": [],
   "source": [
    "import requests as req\n",
    "# import json"
   ]
  },
  {
   "cell_type": "code",
   "execution_count": 2,
   "metadata": {},
   "outputs": [],
   "source": [
    "# I'm going to front-load all of my\n",
    "# query strings in case I need to adjust\n",
    "# them later.  You don't have to do it this way."
   ]
  },
  {
   "cell_type": "code",
   "execution_count": 3,
   "metadata": {},
   "outputs": [],
   "source": [
    "# Start with some API ID information for WMATA\n",
    "\n",
    "apiKEY = \"api_key\"\n",
    "apiVALUE = \"b23a33173a6f44059e3f7a6c286cb881\"\n",
    "\n",
    "# Organize this data as a Dictionary -- a singleton\n",
    "# dictionary -- with only one KV Pair within.\n",
    "\n",
    "papersPlease = {apiKEY: apiVALUE}\n",
    "\n",
    "# Note again:  No quotes --> variables\n",
    "# Whereas:     quotes --> words, text, quotes, strings"
   ]
  },
  {
   "cell_type": "code",
   "execution_count": 4,
   "metadata": {},
   "outputs": [],
   "source": [
    "# From the WMATA Developer page, this address\n",
    "# is the \"endpoint\" for our Bus Stop Timer query.\n",
    "\n",
    "# JSON was built initially for javascript, but it\n",
    "# can be used anywhere.  Note that by using the\n",
    "# word JSON in my variable, I'm apparently implying\n",
    "# that this endpoint will RETURN data in a JSON-friendly\n",
    "# format.  It would have been best for me to include\n",
    "# a URL to take me right to the website where this\n",
    "# is documented.\n",
    "\n",
    "BusPredictorURL = \"https://api.wmata.com/NextBusService.svc/json/jPredictions\""
   ]
  },
  {
   "cell_type": "code",
   "execution_count": 5,
   "metadata": {},
   "outputs": [],
   "source": [
    "# The Bus Stop ID query\n",
    "\n",
    "# I'm building this, piece by piece, in order\n",
    "# to make it easier to adjust later.  Plus,\n",
    "# it makes it easier to understand how it works.\n",
    "\n",
    "# CarBarn hardcoded right now to eliminate potential\n",
    "# problems in getting this data.  ALWAYS WORK TO \n",
    "# ELIMINATE AS MANY VARIABLES AS POSSIBLE.\n",
    "\n",
    "baseURL = \"https://api.wmata.com/Bus.svc/json/jStops\"\n",
    "latQuery = \"?Lat=\"\n",
    "lngQuery = \"&Lon=\"\n",
    "radQuery = \"&Radius=\"\n",
    "myLat = \"38.905833\" # CarBarn, \n",
    "myLng = \"-77.069828\" # courtesy Google\n",
    "myRad = \"501\""
   ]
  },
  {
   "cell_type": "code",
   "execution_count": 6,
   "metadata": {},
   "outputs": [],
   "source": [
    "# Assemble the Bus Stop ID query\n",
    "# Worth observing that the way this comes together is a little\n",
    "# odd:  Some data is commonly accessed in the form of a tuple,\n",
    "# or an ordered, finite set.  The most common are called two-tuples,\n",
    "# or ordered pairs:  Think, for example, of X and Y, or of Vectors\n",
    "# in Physics (magnitude and heading).  These are commonly delivered\n",
    "# *as pairs*:  You wouldn't (typically) bother saying \"x=5, y=12.\"\n",
    "# You'd just say (5,12).  Same deal, typically, with Latitude and\n",
    "# Longitude:  e.g., (38.073, -77.07) is, as they say, easy on the eyes.\n",
    "# Stretching it out like WMATA does in their API is a bit odd.\n",
    "\n",
    "geoDataQuery = (latQuery + myLat) + (lngQuery + myLng) + (radQuery + myRad)\n",
    "totalRequestLive = baseURL + geoDataQuery"
   ]
  },
  {
   "cell_type": "code",
   "execution_count": 7,
   "metadata": {},
   "outputs": [],
   "source": [
    "# Again, we don't have to break things down\n",
    "# to steps that are this discrete, but it\n",
    "# does make it easier to follow along.  There's\n",
    "# nothing wrong with making things as easy for\n",
    "# others to read as possible.\n",
    "\n",
    "# This is where the actual QUERY gets built and\n",
    "# sent to the servers.  For an idea of how much\n",
    "# of an improvement this is over former methods,\n",
    "# look up the urllib3 library for Python.\n",
    "\n",
    "AllStops = req.get(totalRequestLive, headers = papersPlease)"
   ]
  },
  {
   "cell_type": "code",
   "execution_count": 8,
   "metadata": {},
   "outputs": [
    {
     "data": {
      "text/plain": [
       "200"
      ]
     },
     "execution_count": 8,
     "metadata": {},
     "output_type": "execute_result"
    }
   ],
   "source": [
    "# Did it work?  Look for code 200\n",
    "# This won't stay here, but it is convenient\n",
    "# feedback for now.\n",
    "\n",
    "AllStops.status_code"
   ]
  },
  {
   "cell_type": "code",
   "execution_count": 9,
   "metadata": {},
   "outputs": [],
   "source": [
    "# Now extract the section called \"Stops\" (which\n",
    "# is really almost the whole thing).  NB that\n",
    "# I'm using the .json() method of Requests objects.\n",
    "# IMPORTANT to understand that this method\n",
    "# doesn't turn something INTO JSON, but it\n",
    "# CHANGES JSON into a PYTHON-friendly\n",
    "# dictionary data format.\n",
    "\n",
    "AllStopsDictionary = AllStops.json()\n",
    "BusStopDict = AllStopsDictionary[\"Stops\"]"
   ]
  },
  {
   "cell_type": "code",
   "execution_count": 10,
   "metadata": {},
   "outputs": [
    {
     "name": "stdout",
     "output_type": "stream",
     "text": [
      "{'StopID': '1001345', 'Name': 'PROSPECT ST NW + 36TH ST NW', 'Lon': -77.069828, 'Lat': 38.905833, 'Routes': ['G2', 'G2v1']}\n",
      "{'StopID': '1001354', 'Name': '35TH ST NW + N ST NW', 'Lon': -77.06888, 'Lat': 38.906649, 'Routes': ['G2', 'G2v1']}\n",
      "{'StopID': '1001315', 'Name': 'M ST NW + 34TH ST NW', 'Lon': -77.067573, 'Lat': 38.904949, 'Routes': ['38B', '38Bv1', '38Bv2', 'D5']}\n",
      "{'StopID': '1001370', 'Name': '37TH ST NW + O ST NW', 'Lon': -77.071671, 'Lat': 38.907395, 'Routes': ['G2', 'G2v1']}\n",
      "{'StopID': '1001385', 'Name': 'O ST NW + 34TH ST NW', 'Lon': -77.067972, 'Lat': 38.9077, 'Routes': ['G2', 'G2v1']}\n",
      "{'StopID': '1001398', 'Name': 'P ST NW + 35TH ST NW', 'Lon': -77.068904, 'Lat': 38.908794, 'Routes': ['G2']}\n",
      "{'StopID': '1003205', 'Name': 'M ST NW + 33RD ST NW', 'Lon': -77.065862, 'Lat': 38.905208, 'Routes': ['38B', 'D5']}\n",
      "{'StopID': '1001318', 'Name': 'M ST NW + POTOMAC ST NW', 'Lon': -77.065469, 'Lat': 38.905035, 'Routes': ['38B', '38Bv1', '38Bv2', 'D5']}\n",
      "{'StopID': '1001401', 'Name': 'P ST NW + 33RD ST NW', 'Lon': -77.065912, 'Lat': 38.908847, 'Routes': ['G2']}\n"
     ]
    }
   ],
   "source": [
    "for each_entry in BusStopDict:\n",
    "    print(each_entry)"
   ]
  },
  {
   "cell_type": "markdown",
   "metadata": {},
   "source": [
    "Data is typically packaged in a manner that requires as little effort as possible on the part of the producer and distributer of that data.  Which means, in order to maintain the delicate balance of the Universe, we are going to have to do a lot of work to make sense of that data.\n",
    "\n",
    "Still, you may ask, why so much work?  In part, because I'm stretching the process out overmuch in order to expose actions that are typically concealed or invisible.  But the fact is that JSON was not built for Python, and though it translates, we do have to jump through some hoops."
   ]
  },
  {
   "cell_type": "markdown",
   "metadata": {},
   "source": [
    "In this case specifically, here's the structure of the JSON (or pseudo-JSON) that requests.json() delivers:\n",
    "\n",
    "\n",
    "1.  A Tuple\n",
    "    1.  contains a List\n",
    "        1.  contains a pair of Tuples: \n",
    "            1. (A KVP - StopName, value is String)\n",
    "            2. (A KVP - Predictions, value is a List)\n",
    "                1.  List contains n Dictionaries\n",
    "                        1.  Each dict contains the KVPs we want\n",
    "                            1. Route etc.\n",
    "                            2. Route etc.\n",
    "                            3. Route etc."
   ]
  },
  {
   "cell_type": "markdown",
   "metadata": {},
   "source": [
    "Not that great.  But the good news is that once you work through it, it tends to remain fairly reliable.  This approach, for instance, is better *by far* than scraping data."
   ]
  },
  {
   "cell_type": "code",
   "execution_count": 11,
   "metadata": {},
   "outputs": [
    {
     "data": {
      "text/plain": [
       "'\\nfor each_entry in BusStopDict:\\n    ID = each_entry[\"StopID\"]\\n    BusPredictorRequest = BusPredictorURL + \"?StopID=\" + ID\\n    BusETA = req.get(BusPredictorRequest, headers = papersPlease)\\n\\n    # Two different ways of accomplishing this\\n    # One uses the json library, the other\\n    # Depends on the .json() method in Requests library\\n    # jsonData = json.loads(BusETA.content.decode(\\'utf-8\\'))\\n\\n    \\n    jsonData = BusETA.json()\\n    #    print(jsonData)\\n    jsonPredictions = jsonData[\\'Predictions\\']\\n    #    print(jsonPredictions)\\n    jsonMainList = jsonPredictions[0]\\n    #    print(jsonMainList)\\n    tempRouteID = jsonMainList[\\'RouteID\\']\\n    tempNarr = jsonMainList[\\'DirectionText\\']\\n    tempMins = jsonMainList[\\'Minutes\\']\\n    print(tempRouteID, tempNarr, tempMins)\\n    '"
      ]
     },
     "execution_count": 11,
     "metadata": {},
     "output_type": "execute_result"
    }
   ],
   "source": [
    "'''\n",
    "for each_entry in BusStopDict:\n",
    "    ID = each_entry[\"StopID\"]\n",
    "    BusPredictorRequest = BusPredictorURL + \"?StopID=\" + ID\n",
    "    BusETA = req.get(BusPredictorRequest, headers = papersPlease)\n",
    "\n",
    "    # Two different ways of accomplishing this\n",
    "    # One uses the json library, the other\n",
    "    # Depends on the .json() method in Requests library\n",
    "    # jsonData = json.loads(BusETA.content.decode('utf-8'))\n",
    "\n",
    "    \n",
    "    jsonData = BusETA.json()\n",
    "    #    print(jsonData)\n",
    "    jsonPredictions = jsonData['Predictions']\n",
    "    #    print(jsonPredictions)\n",
    "    jsonMainList = jsonPredictions[0]\n",
    "    #    print(jsonMainList)\n",
    "    tempRouteID = jsonMainList['RouteID']\n",
    "    tempNarr = jsonMainList['DirectionText']\n",
    "    tempMins = jsonMainList['Minutes']\n",
    "    print(tempRouteID, tempNarr, tempMins)\n",
    "    '''"
   ]
  },
  {
   "cell_type": "code",
   "execution_count": null,
   "metadata": {},
   "outputs": [],
   "source": []
  },
  {
   "cell_type": "markdown",
   "metadata": {},
   "source": [
    "Now that we've got the data reliably divvied up, let's store that information in a few arrays -- just like we did in the last few projects -- in order to organize it for our dashboard."
   ]
  },
  {
   "cell_type": "code",
   "execution_count": 12,
   "metadata": {},
   "outputs": [],
   "source": [
    "# As long as it isn't too high, we still \n",
    "# want to use the BusStop list as a convenient\n",
    "# set of starting points.\n",
    "\n",
    "# But let's start by zeroing out the lists\n",
    "# with each bus' data.  Note that I'm using\n",
    "# square brackets [] -- this is a list,\n",
    "# not a tuple, not a dictionary.\n",
    "\n",
    "# Also:  We zero it out only once -- we want\n",
    "# these lists to accumulate values.\n",
    "\n",
    "busStopID = []\n",
    "busStopName = []\n",
    "\n",
    "busRouteID = []\n",
    "busRouteName = []\n",
    "busRouteDir = []\n",
    "busRouteMins = []\n",
    "busID = []\n",
    "\n",
    "for each_Stop in BusStopDict:\n",
    "    \n",
    "    stopID = each_Stop[\"StopID\"]\n",
    "    stopName = each_Stop[\"Name\"]\n",
    "    \n",
    "    BusPredictorRequest = BusPredictorURL + \"?StopID=\" + stopID\n",
    "    BusETA = req.get(BusPredictorRequest, headers = papersPlease)\n",
    "    \n",
    "    jsonData = BusETA.json()\n",
    "    jsonPredictions = jsonData['Predictions']\n",
    "    \n",
    "    # NOW we have to iterate over every\n",
    "    # dictionary hidden in that one list.\n",
    "    # If there's only one dictionary, this\n",
    "    # still works just fine.\n",
    "    \n",
    "    tempBusStopID = stopID\n",
    "    tempBusStopName = stopName\n",
    "    \n",
    "    for each_Bus in jsonPredictions:\n",
    "        tempRouteID = each_Bus['RouteID']\n",
    "        tempDir = each_Bus['DirectionText']\n",
    "        tempMins = each_Bus['Minutes']\n",
    "       # tempID = each_Bus['']\n",
    "        \n",
    "        # add in data (often repeated)\n",
    "        # that reminds us which stop we were\n",
    "        # asking about...\n",
    "        busStopID.append(tempBusStopID)\n",
    "        busStopName.append(tempBusStopName)\n",
    "        \n",
    "        # now save this data at PEAK FRESHNESS\n",
    "        \n",
    "        busRouteID.append(tempRouteID)\n",
    "        # busRouteName.append(tempRouteName)\n",
    "        busRouteDir.append(tempDir)\n",
    "        busRouteMins.append(str(tempMins))\n",
    "       # busID.append(str(tempID))"
   ]
  },
  {
   "cell_type": "code",
   "execution_count": 13,
   "metadata": {},
   "outputs": [
    {
     "name": "stdout",
     "output_type": "stream",
     "text": [
      "9 mins: G2 PROSPECT ST NW + 36TH ST NW East to Ledroit Park - Howard University\n",
      "38 mins: G2 PROSPECT ST NW + 36TH ST NW East to Ledroit Park - Howard University\n",
      "9 mins: G2 35TH ST NW + N ST NW East to Ledroit Park - Howard University\n",
      "39 mins: G2 35TH ST NW + N ST NW East to Ledroit Park - Howard University\n",
      "13 mins: 38B M ST NW + 34TH ST NW East to Farragut Square\n",
      "7 mins: G2 37TH ST NW + O ST NW East to Ledroit Park - Howard University\n",
      "37 mins: G2 37TH ST NW + O ST NW East to Ledroit Park - Howard University\n",
      "10 mins: G2 O ST NW + 34TH ST NW East to Ledroit Park - Howard University\n",
      "39 mins: G2 O ST NW + 34TH ST NW East to Ledroit Park - Howard University\n",
      "3 mins: G2 P ST NW + 35TH ST NW West to Georgetown University\n",
      "23 mins: G2 P ST NW + 35TH ST NW West to Georgetown University\n",
      "0 mins: 38B M ST NW + 33RD ST NW West to Ballston\n",
      "13 mins: 38B M ST NW + 33RD ST NW West to Ballston\n",
      "31 mins: 38B M ST NW + 33RD ST NW West to Ballston\n",
      "0 mins: 38B M ST NW + POTOMAC ST NW East to Farragut Square\n",
      "14 mins: 38B M ST NW + POTOMAC ST NW East to Farragut Square\n",
      "3 mins: G2 P ST NW + 33RD ST NW West to Georgetown University\n",
      "22 mins: G2 P ST NW + 33RD ST NW West to Georgetown University\n",
      "-------------\n"
     ]
    }
   ],
   "source": [
    "n = len(busRouteID)\n",
    "for i in range(0,n):\n",
    "    print(\n",
    "    busRouteMins[i], \"mins:\",\n",
    "    busRouteID[i],\n",
    "    busStopName[i],\n",
    "    busRouteDir[i]\n",
    "    )\n",
    "print(\"-------------\")"
   ]
  },
  {
   "cell_type": "code",
   "execution_count": null,
   "metadata": {},
   "outputs": [],
   "source": []
  }
 ],
 "metadata": {
  "kernelspec": {
   "display_name": "Python 3",
   "language": "python",
   "name": "python3"
  },
  "language_info": {
   "codemirror_mode": {
    "name": "ipython",
    "version": 3
   },
   "file_extension": ".py",
   "mimetype": "text/x-python",
   "name": "python",
   "nbconvert_exporter": "python",
   "pygments_lexer": "ipython3",
   "version": "3.6.3"
  }
 },
 "nbformat": 4,
 "nbformat_minor": 2
}
