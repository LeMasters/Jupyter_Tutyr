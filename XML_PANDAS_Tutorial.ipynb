{
 "cells": [
  {
   "cell_type": "markdown",
   "metadata": {},
   "source": [
    "### This little tutorial means to further acquaint you with Python, its data science libraries, and Jupyter Notebook.  It is also keen on better understanding one of the data formats that likely comprise a significant part of your future:  .XML"
   ]
  },
  {
   "cell_type": "markdown",
   "metadata": {},
   "source": [
    "At the same time, it tries to contextualize all of this work with how data science actually gets done, and what it can look like *en route*.  This is a lot to take in all at once, I know.  But, in my small opinion, you cannot separate lessons in *doing data science* from lessons in *programming* from a *working knowledge* of where and how our data lives.  These three components have to inform one another, or there is no point going forward."
   ]
  },
  {
   "cell_type": "markdown",
   "metadata": {
    "slideshow": {
     "slide_type": "-"
    }
   },
   "source": [
    "I suggest that you work along with this Jupyter Notebook tutorial by opening up your own notebook (with a Python 3 kernal) and building each section as you make sense of it.  Don't hesitate to break things, add things, go off in your own direction.  Remember:  This is the advantage of the digital Notebook format.  Don't get stuck in *pen-and-ink-think.*"
   ]
  },
  {
   "cell_type": "markdown",
   "metadata": {},
   "source": [
    "## ONE"
   ]
  },
  {
   "cell_type": "markdown",
   "metadata": {},
   "source": [
    "You're going to need an iTunes **.plist** (preferences list) file for this exercise.  Its actually a version of an .XML file.  In case you don't have one handy, or if you'd prefer to work along with the same one I'm using, I happen to have a copy of it right here for download.\n",
    "\n",
    "[download drm_itunes.xml](drm_itunes.xml)\n",
    "\n",
    "*Like most .xml files, this is just a flatfile:  It doesn't actually contain any of the music to which it refers.*"
   ]
  },
  {
   "cell_type": "markdown",
   "metadata": {},
   "source": [
    "## TWO"
   ]
  },
  {
   "cell_type": "markdown",
   "metadata": {},
   "source": [
    "This week, Jupyter Notebook is again our weapon of choice."
   ]
  },
  {
   "cell_type": "markdown",
   "metadata": {},
   "source": [
    "## THREE"
   ]
  },
  {
   "cell_type": "markdown",
   "metadata": {},
   "source": [
    "#### Data Handling"
   ]
  },
  {
   "cell_type": "markdown",
   "metadata": {},
   "source": [
    "Don't forget:  *Never work on the original copy of a data file*.  You will regret that decision.  If you're using your own music.xml file, make a duplicate, *leaving the original untouched and unmoved.*"
   ]
  },
  {
   "cell_type": "markdown",
   "metadata": {},
   "source": [
    "Rename your copy of the file in order to mark it as a disposable working copy:  Say, `myiTunesData.xml`.  Make note of that in your processing book.  (These ostensibly *disposable* copies really add up over time.  I found yesterday that I had 4 copies of the (awesome) NYC TaxiCab GPS dataset (January 2016 edition); each copy is just over 2GB in size.)"
   ]
  },
  {
   "cell_type": "markdown",
   "metadata": {},
   "source": [
    "Now from Mac's Finder or Window's Explorer (or the command line, if you're feeling adventuresome), move your `.xml` datafile into the same directory that now contains your Jupyter file.  In my case, for example, `.iTunesPlotter.ipynb` and `itunes_gwl.xml` are both safely stored in the same directory:\n",
    "\n",
    "    Users/garrisonlemasters/Documents/AnacondaProjects/iTunes/"
   ]
  },
  {
   "cell_type": "markdown",
   "metadata": {},
   "source": [
    "The `.xml` file does not *have* to be in the same directory as the Jupyter notebook (the .ipynb file), but it makes life much easier."
   ]
  },
  {
   "cell_type": "markdown",
   "metadata": {},
   "source": [
    "**Q:**  *Doesn't all of this seem like a lot of administrative work?*\n",
    "\n",
    "**A:**  It probably only seems that way because **it is a lot of administrative work**.  Doing data science means learning to love file versioning systems, duplication macros, RAID arrays and redundant storage systems.  It means you fantasize about off-site storage and data firehoses.  Do a good job keeping track of your data and the rest will follow."
   ]
  },
  {
   "cell_type": "markdown",
   "metadata": {},
   "source": [
    "## FOUR"
   ]
  },
  {
   "cell_type": "markdown",
   "metadata": {},
   "source": [
    "Let's look at the file we want to ingest and manipulate.  As we can tell from the file extension and from the file header, it is an .XML file.  Here's the header:"
   ]
  },
  {
   "cell_type": "markdown",
   "metadata": {},
   "source": [
    "```\n",
    "<?xml version=\"1.0\" encoding=\"UTF-8\"?>\n",
    "<!DOCTYPE plist PUBLIC \"-//Apple Computer//DTD PLIST 1.0//EN\" \"http://www.apple.com/DTDs/PropertyList-1.0.dtd\">\n",
    "<plist version=\"1.0\">\n",
    "```"
   ]
  },
  {
   "cell_type": "markdown",
   "metadata": {},
   "source": [
    "One of the principles to which .XML files adhere is that their headers point to a place on the web where someone maintains the file's schema:  That is, a detailed description of how the file is organized.  That's the second line (above), the one that begins !DOCTYPE and ends with the standard file extension for XML schema, .dtd."
   ]
  },
  {
   "cell_type": "markdown",
   "metadata": {},
   "source": [
    "Apple -- like many companies -- uses the .XML standard, but doesn't always adhere to the standards themselves.  This is usually annoying.  In this case, it means that the file is easier for us to interpret, but less easily interpreted by Python.  To understand why, let's talk about dictionaries."
   ]
  },
  {
   "cell_type": "markdown",
   "metadata": {},
   "source": [
    "In computation, a DICTIONARY is a fairly simple way of storing information.  It is called a dictionary because it roughly mimics the way a dictionary stores data:  With a unique term on the left-hand side of the page and one or more definitions on the right-hand side.  When we consult a dictionary, we always know the term that we're looking for:  "
   ]
  },
  {
   "cell_type": "markdown",
   "metadata": {},
   "source": [
    "Doing extensive work with an unfamiliar library, data format, or hardware?  Keep a notebook or a webpage with all of the relevant links to tutorials, src code, and (ideally) the developers' docs.  For decades, documentation of code has been abysmal:  But it has gotten to the point that some documentation is genuinely useful now.  [Here is one page](https://developer.apple.com/legacy/library/documentation/Darwin/Reference/ManPages/man5/plist.5.html), for example, that Apple maintains on its use of XML in PLIST formats.  And [here is a page devoted to the Python Software Foundation's plistlib](https://docs.python.org/3/library/plistlib.html).  The changelog that appears right above the yellow box on that page hints at the terrific difficulties that even the best documentation is hard-pressed to ameliorate:  \"Changed in version 3.4: New API, old API deprecated. Support for binary format plists added.\"  While the shift from 3.3 to 3.4 doesn't *seem* like much, the 3.4 library is effectively completely new."
   ]
  },
  {
   "cell_type": "markdown",
   "metadata": {},
   "source": [
    "## Process"
   ]
  },
  {
   "cell_type": "code",
   "execution_count": 1,
   "metadata": {},
   "outputs": [],
   "source": [
    "import plistlib"
   ]
  },
  {
   "cell_type": "code",
   "execution_count": 2,
   "metadata": {},
   "outputs": [],
   "source": [
    "fileName = 'drm_itunes.xml'"
   ]
  },
  {
   "cell_type": "code",
   "execution_count": 3,
   "metadata": {},
   "outputs": [],
   "source": [
    "myFileObject = open(fileName, 'rb')"
   ]
  },
  {
   "cell_type": "markdown",
   "metadata": {},
   "source": [
    "This statement opens our file (fileName) as a Read-Only file ('r') in Binary mode ('b').  \"Oh no you didn't\", you'll complain: \"What's this yer on about now, *binary*?  I thought if I could read the file, it was a *plaintext* file -- and I can bloody well read this `.xml` file just fine, *gov'nuh*, I do thank ye very much.  It isn't binary!\"\n",
    "\n",
    "Well, yes:  *How colorful you are!*  And how *right* you are!  \n",
    "\n",
    "Or rather, right you *were,* because at the same time that we opened the file, we were also asking Python to *convert it* into a binary object right away:  The 'b' for Binary didn't reflect the nature of the file -- \"Python, open that file, and be careful, its in BINARY!\".  Instead, it told Python how we want it to treat the data it finds inside:  \"Python, open that file, and store it as binary data, right away!\""
   ]
  },
  {
   "cell_type": "markdown",
   "metadata": {},
   "source": [
    "So the obvious question is:  Why?  Why change the 'stream' of information from a legible (human-readable) stream of letters to a stream of 1's and 0's?  \n",
    "\n",
    "The answer isn't that interesting, in truth:  In our case, we do that because the library we're about to use -- Python's `plistlib` -- wants its data delivered as a binary stream.\n",
    "\n",
    "And so that is exactly what we've done with our `open(filename, 'rb')` statement:  We've asked Python to take our file full of song titles and singer's names and convert them all to a stream of binary digits.  Python obliges by converting the data, and then it packages it up inside an `object` called an \\_io.BufferedReader:  Basically, *a high-tech chrome-and-carbon-fiber box*, full of bells and whistles that make it easier for us to get immediate access to lots of data, quickly."
   ]
  },
  {
   "cell_type": "markdown",
   "metadata": {},
   "source": [
    "We can get a quick overview of the `myFileObject` object if we `print()` it to our screen:"
   ]
  },
  {
   "cell_type": "code",
   "execution_count": 4,
   "metadata": {},
   "outputs": [
    {
     "name": "stdout",
     "output_type": "stream",
     "text": [
      "<_io.BufferedReader name='drm_itunes.xml'>\n"
     ]
    }
   ],
   "source": [
    "    print(myFileObject)"
   ]
  },
  {
   "cell_type": "markdown",
   "metadata": {},
   "source": [
    "Our high-tech box, filled with liquid data, is called a BufferedReader.  "
   ]
  },
  {
   "cell_type": "markdown",
   "metadata": {},
   "source": [
    "So: Python knows how to pull data in and push data out (*its all 1's and 0's at this point, after all*).  But we usually need one or more external libraries if we're going to make automated sense of that data at all.  In our case, Python already has a plist library (called, appropriately enough, `plistlib`) ready to go.  *(Note that there are other libraries that would also work here, like the XML parsing library; but plistlib is custom-made for Apple-style data, which suits us perfectly.)*\n",
    "\n",
    "When we use one of the tools in the library (in this case, `load` is a 'method' -- an action, a verb -- stored inside our `.plistlib`), we need to tell Python that we are using a tool *from that library*.  We've done this sort of thing before.  In this case, it looks like this:"
   ]
  },
  {
   "cell_type": "code",
   "execution_count": 5,
   "metadata": {},
   "outputs": [],
   "source": [
    "    songLibraryData = plistlib.load(myFileObject)"
   ]
  },
  {
   "cell_type": "markdown",
   "metadata": {},
   "source": [
    "Remember:  In the code above, `songLibraryData` and `myFileObject` are both variables:  We want Python to 'read between the lines,' not to interpret those words literally.  Because of that, we do NOT use quotes around them.  If I put quotes around `myFileObject`, for example, Python would think that the phrase `myFileObject` was important.  In this case, it clearly is not:  The *value contained within that variable* is what matters."
   ]
  },
  {
   "cell_type": "markdown",
   "metadata": {},
   "source": [
    "Python asks the plist library to take a look at that binary stream of data we opened up; if it recognizes how things are organized, we're in luck!\n",
    "\n",
    "Let's see what we've got:  What does `songLibraryData` look like?"
   ]
  },
  {
   "cell_type": "code",
   "execution_count": 6,
   "metadata": {},
   "outputs": [
    {
     "name": "stdout",
     "output_type": "stream",
     "text": [
      "{'Major Version': 1, 'Minor Version': 1, 'Date': datetime.datetime(2018, 2, 8, 16, 16, 42), 'Application Version': '12.7.3.46', 'Features': 5, 'Show Content Ratings': True, 'Music Folder': 'file:///Users/garrisonlemasters/Music/iTunes/iTunes%20Media/', 'Library Persistent ID': 'E2C1E44874E953B8', 'Tracks': {'1494': {'Track ID': 1494, 'Name': 'Take on Me', 'Artist': 'NO BS! Brass', 'Album Artist': 'NO BS! Brass', 'Album': 'Alive in Richmond 2.0', 'Genre': 'Jazz', 'Kind': 'Purchased AAC audio file', 'Size': 7379988, 'Total Time': 195440, 'Disc Number': 1, 'Disc Count': 1, 'Track Number': 16, 'Track Count': 18, 'Year': 2011, 'Date Modified': datetime.datetime(2015, 9, 21, 1, 32, 36), 'Date Added': datetime.datetime(2014, 9, 22, 19, 17, 57), 'Bit Rate': 256, 'Sample Rate': 44100, 'Play Count': 8, 'Play Date': 3541067864, 'Play Date UTC': datetime.datetime(2016, 3, 17, 17, 57, 44), 'Skip Count': 1, 'Skip Date': datetime.datetime(2015, 10, 13, 18, 22, 24), 'Loved': True, 'Normalization': 5314, 'Artwork Count': 1, 'Sort Album': 'Alive in Richmond 2.0', 'Sort Artist': 'NO BS! Brass', 'Sort Name': 'Take on Me', 'Persistent ID': 'E3B56D40EF180A73', 'Track Type': 'File', 'Purchased': True, 'Location': 'file:///Users/garrisonlemasters/Music/iTunes/iTunes%20Media/Music/NO%20BS!%20Brass/Alive%20in%20Richmond%202.0/16%20Take%20on%20Me.m4a', 'File Folder Count': 5, 'Library Folder Count': 1}, '1496': {'Track ID': 1496, 'Name': 'Splatter Splatter', 'Artist': 'Moxy Fruvous', 'Album Artist': 'Moxy Fruvous', 'Composer': 'Unknown', 'Album': 'Thornhill', 'Genre': 'Rock', 'Kind': 'Purchased AAC audio file', 'Size': 6476758, 'Total Time': 179731, 'Disc Number': 1, 'Disc Count': 1, 'Track Number': 7, 'Track Count': 12, 'Year': 1999, 'Date Modified': datetime.datetime(2015, 9, 21, 1, 32, 32), 'Date Added': datetime.datetime(2013, 11, 7, 0, 31), 'Bit Rate': 256, 'Sample Rate': 44100, 'Play Count': 21, 'Play Date': 3575360579, 'Play Date UTC': datetime.datetime(2017, 4, 18, 15, 42, 59), 'Skip Count': 2, 'Skip Date': datetime.datetime(2015, 9, 21, 0, 28, 30), 'Normalization': 6789, 'Artwork Count': 1, 'Sort Album': 'Thornhill', 'Sort Artist': 'Moxy Fruvous', 'Sort Name': 'Splatter Splatter', 'Persistent ID': '2C75C312BA0835DA', 'Track Type': 'File', 'Purchased': True, 'Location': 'file:///Users/garrisonlemasters/Music/iTunes/iTunes%20Media/Music/Moxy%20Fruvous/Thornhill/07%20Splatter%20Splatter.m4a', 'File Folder Count': 5, 'Library Folder Count': 1}, '1498': {'Track ID': 1498, 'Name': 'Journey of the Sorcerer', 'Artist': 'Eagles', 'Album Artist': 'Eagles', 'Album': 'The Studio Albums 1972-1979', 'Genre': 'Rock', 'Kind': 'Purchased AAC audio file', 'Size': 13972779, 'Total Time': 396921, 'Disc Number': 4, 'Disc Count': 6, 'Track Number': 4, 'Track Count': 9, 'Year': 2013, 'Date Modified': datetime.datetime(2015, 9, 21, 1, 32, 52), 'Date Added': datetime.datetime(2013, 10, 31, 9, 33, 54), 'Bit Rate': 256, 'Sample Rate': 44100, 'Play Count': 11, 'Play Date': 3594875816, 'Play Date UTC': datetime.datetime(2017, 11, 30, 13, 36, 56), 'Skip Count': 1, 'Normalization': 1270, 'Artwork Count': 1, 'Sort Album': 'Studio Albums 1972-1979', 'Sort Artist': 'Eagles', 'Sort Name': 'Journey of the Sorcerer', 'Persistent ID': 'F56D65BD72A6A9D2', 'Track Type': 'File', 'Purchased': True, 'Location': 'file:///Users/garrisonlemasters/Music/iTunes/iTunes%20Media/Music/Eagles/The%20Studio%20Albums%201972-1979/4-04%20Journey%20of%20the%20Sorcerer.m4a', 'File Folder Count': 5, 'Library Folder Count': 1}, '1502': {'Track ID': 1502, 'Name': 'Hammer to Fall (Single Version)', 'Artist': 'Queen', 'Album Artist': 'Queen', 'Composer': 'Brian May', 'Album': 'Queen: Greatest Hits I & II', 'Genre': 'Rock', 'Kind': 'Purchased AAC audio file', 'Size': 8378090, 'Total Time': 220466, 'Disc Number': 2, 'Disc Count': 2, 'Track Number': 14, 'Track Count': 17, 'Year': 1992, 'Date Modified': datetime.datetime(2015, 9, 21, 1, 32, 47), 'Date Added': datetime.datetime(2009, 1, 12, 10, 6, 55), 'Bit Rate': 256, 'Sample Rate': 44100, 'Comments': '(Single Version)', 'Play Count': 6, 'Play Date': 3539150050, 'Play Date UTC': datetime.datetime(2016, 2, 24, 14, 14, 10), 'Normalization': 1999, 'Artwork Count': 1, 'Sort Album': 'Queen: Greatest Hits I & II', 'Sort Artist': 'Queen', 'Sort Name': 'Hammer to Fall (Single Version)', 'Persistent ID': 'FD7EBB2AA180B0BD', 'Track Type': 'File', 'Purchased': True, 'Location': 'file:///Users/garrisonlemasters/Music/iTunes/iTunes%20Media/Music/Queen/Queen_%20Greatest%20Hits%20I%20&%20II/2-14%20Hammer%20to%20Fall%20(Single%20Version).m4a', 'File Folder Count': 5, 'Library Folder Count': 1}, '1504': {'Track ID': 1504, 'Name': 'MacArthur Park', 'Artist': 'Maynard Ferguson', 'Album Artist': 'Maynard Ferguson', 'Composer': 'J. Webb', 'Album': 'This Is Jazz #16', 'Genre': 'Jazz', 'Kind': 'Purchased AAC audio file', 'Size': 20737348, 'Total Time': 597466, 'Disc Number': 1, 'Disc Count': 1, 'Track Number': 3, 'Track Count': 8, 'Year': 1996, 'Date Modified': datetime.datetime(2015, 9, 21, 1, 33, 5), 'Date Added': datetime.datetime(2009, 1, 12, 10, 6, 55), 'Bit Rate': 256, 'Sample Rate': 44100, 'Play Count': 2, 'Play Date': 3534519038, 'Play Date UTC': datetime.datetime(2016, 1, 1, 23, 50, 38), 'Normalization': 2087, 'Artwork Count': 1, 'Sort Album': 'This Is Jazz #16', 'Sort Artist': 'Maynard Ferguson', 'Sort Name': 'MacArthur Park', 'Persistent ID': '3A68BE18CD0BA222', 'Track Type': 'File', 'Purchased': True, 'Location': 'file:///Users/garrisonlemasters/Music/iTunes/iTunes%20Media/Music/Maynard%20Ferguson/This%20Is%20Jazz%20%2316/03%20MacArthur%20Park.m4a', 'File Folder Count': 5, 'Library Folder Count': 1}, '1506': {'Track ID': 1506, 'Name': 'Creep Live At (Le)Poisson Rouge', 'Artist': 'Carrie Manolakos', 'Album Artist': 'Carrie Manolakos', 'Album': 'Creep Live At (Le)Poisson Rouge - Single', 'Genre': 'Pop', 'Kind': 'Purchased AAC audio file', 'Size': 10150198, 'Total Time': 288993, 'Disc Number': 1, 'Disc Count': 1, 'Track Number': 1, 'Track Count': 1, 'Year': 2012, 'Date Modified': datetime.datetime(2015, 9, 21, 1, 32, 37), 'Date Added': datetime.datetime(2013, 7, 6, 13, 39, 52), 'Bit Rate': 256, 'Sample Rate': 44100, 'Play Count': 14, 'Play Date': 3595065362, 'Play Date UTC': datetime.datetime(2017, 12, 2, 18, 16, 2), 'Skip Count': 3, 'Skip Date': datetime.datetime(2015, 10, 16, 9, 27, 56), 'Normalization': 3919, 'Artwork Count': 1, 'Sort Album': 'Creep Live At (Le)Poisson Rouge - Single', 'Sort Artist': 'Carrie Manolakos', 'Sort Name': 'Creep Live At (Le)Poisson Rouge', 'Persistent ID': '9C8A4A1A1BD27F4A', 'Track Type': 'File', 'Purchased': True, 'Location': 'file:///Users/garrisonlemasters/Music/iTunes/iTunes%20Media/Music/Carrie%20Manolakos/Creep%20Live%20At%20(Le)Poisson%20Rouge%20-%20Single/01%20Creep%20Live%20At%20(Le)Poisson%20Rouge.m4a', 'File Folder Count': 5, 'Library Folder Count': 1}, '1510': {'Track ID': 1510, 'Name': 'Big Country', 'Artist': 'Béla Fleck & The Flecktones', 'Album Artist': 'Béla Fleck & The Flecktones', 'Album': 'Béla Fleck & The Flecktones: Greatest Hits of the 20th Century', 'Genre': 'Jazz', 'Kind': 'Purchased AAC audio file', 'Size': 11425238, 'Total Time': 333080, 'Disc Number': 1, 'Disc Count': 1, 'Track Number': 10, 'Track Count': 11, 'Year': 1999, 'Date Modified': datetime.datetime(2015, 9, 21, 1, 32, 38), 'Date Added': datetime.datetime(2009, 2, 9, 0, 49, 41), 'Bit Rate': 256, 'Sample Rate': 44100, 'Play Count': 7, 'Play Date': 3572419259, 'Play Date UTC': datetime.datetime(2017, 3, 15, 14, 40, 59), 'Skip Date': datetime.datetime(2015, 9, 21, 1, 29, 9), 'Normalization': 1144, 'Compilation': True, 'Artwork Count': 1, 'Sort Album': 'Béla Fleck & The Flecktones: Greatest Hits of the 20th Century', 'Sort Artist': 'Béla Fleck & The Flecktones', 'Sort Name': 'Big Country', 'Persistent ID': '381D03D55DE25C10', 'Track Type': 'File', 'Purchased': True, 'Location': 'file:///Users/garrisonlemasters/Music/iTunes/iTunes%20Media/Music/Compilations/Be%CC%81la%20Fleck%20&%20The%20Flecktones_%20Greatest%20Hits%20of%20the%2020th%20Century/10%20Big%20Country.m4a', 'File Folder Count': 5, 'Library Folder Count': 1}, '1526': {'Track ID': 1526, 'Name': 'Take Down the Union Jack', 'Artist': 'Billy Bragg', 'Album Artist': 'Billy Bragg', 'Album': 'England, Half English', 'Genre': 'Singer/Songwriter', 'Kind': 'Purchased AAC audio file', 'Size': 7002723, 'Total Time': 196293, 'Disc Number': 1, 'Disc Count': 1, 'Track Number': 8, 'Track Count': 12, 'Year': 2002, 'Date Modified': datetime.datetime(2015, 9, 21, 1, 32, 39), 'Date Added': datetime.datetime(2009, 2, 9, 0, 49, 41), 'Bit Rate': 256, 'Sample Rate': 44100, 'Play Count': 3, 'Play Date': 3533618787, 'Play Date UTC': datetime.datetime(2015, 12, 22, 13, 46, 27), 'Normalization': 894, 'Artwork Count': 1, 'Sort Album': 'England, Half English', 'Sort Artist': 'Billy Bragg', 'Sort Name': 'Take Down the Union Jack', 'Persistent ID': '7E380FF256ECC061', 'Track Type': 'File', 'Purchased': True, 'Location': 'file:///Users/garrisonlemasters/Music/iTunes/iTunes%20Media/Music/Billy%20Bragg/England,%20Half%20English/08%20Take%20Down%20the%20Union%20Jack.m4a', 'File Folder Count': 5, 'Library Folder Count': 1}, '1530': {'Track ID': 1530, 'Name': \"Quelqu'un m'a dit\", 'Artist': 'Carla Bruni', 'Album Artist': 'Carla Bruni', 'Composer': 'Carla Bruni & Leos Carax', 'Album': \"Quelqu'un m'a dit\", 'Genre': 'French Pop', 'Kind': 'Purchased AAC audio file', 'Size': 6045588, 'Total Time': 166226, 'Disc Number': 1, 'Disc Count': 1, 'Track Number': 1, 'Track Count': 12, 'Year': 2002, 'Date Modified': datetime.datetime(2015, 9, 21, 1, 32, 46), 'Date Added': datetime.datetime(2013, 11, 5, 9, 28, 21), 'Bit Rate': 256, 'Sample Rate': 44100, 'Play Count': 10, 'Play Date': 3544649803, 'Play Date UTC': datetime.datetime(2016, 4, 28, 4, 56, 43), 'Skip Count': 1, 'Normalization': 1652, 'Artwork Count': 1, 'Sort Album': \"Quelqu'un m'a dit\", 'Sort Artist': 'Carla Bruni', 'Sort Name': \"Quelqu'un m'a dit\", 'Persistent ID': 'C203874280800632', 'Track Type': 'File', 'Purchased': True, 'Location': \"file:///Users/garrisonlemasters/Music/iTunes/iTunes%20Media/Music/Carla%20Bruni/Quelqu'un%20m'a%20dit/01%20Quelqu'un%20m'a%20dit.m4a\", 'File Folder Count': 5, 'Library Folder Count': 1}, '1532': {'Track ID': 1532, 'Name': 'Pure Imagination', 'Artist': 'Fiona Apple', 'Album Artist': 'Fiona Apple', 'Album': 'Pure Imagination - Single', 'Genre': 'Soundtrack', 'Kind': 'Purchased AAC audio file', 'Size': 7297858, 'Total Time': 200662, 'Disc Number': 1, 'Disc Count': 1, 'Track Number': 1, 'Track Count': 1, 'Year': 2013, 'Date Modified': datetime.datetime(2015, 9, 21, 1, 32, 38), 'Date Added': datetime.datetime(2013, 10, 30, 18, 11, 13), 'Bit Rate': 256, 'Sample Rate': 44100, 'Play Count': 30, 'Play Date': 3594874980, 'Play Date UTC': datetime.datetime(2017, 11, 30, 13, 23), 'Skip Count': 1, 'Skip Date': datetime.datetime(2015, 9, 21, 0, 28, 36), 'Rating': 100, 'Album Rating': 100, 'Album Rating Computed': True, 'Normalization': 2078, 'Artwork Count': 1, 'Sort Album': 'Pure Imagination - Single', 'Sort Artist': 'Fiona Apple', 'Sort Name': 'Pure Imagination', 'Persistent ID': 'DAE41C4CAE2D2507', 'Track Type': 'File', 'Purchased': True, 'Location': 'file:///Users/garrisonlemasters/Music/iTunes/iTunes%20Media/Music/Fiona%20Apple/Pure%20Imagination%20-%20Single/01%20Pure%20Imagination.m4a', 'File Folder Count': 5, 'Library Folder Count': 1}, '1536': {'Track ID': 1536, 'Name': 'Girls Just Want to Have Fun (Demo)', 'Artist': 'Greg Laswell', 'Album Artist': 'Greg Laswell', 'Album': 'Girls Just Want to Have Fun (Demo) - Single', 'Genre': 'Pop', 'Kind': 'Purchased AAC audio file', 'Size': 5444687, 'Total Time': 156923, 'Disc Number': 1, 'Disc Count': 1, 'Track Number': 1, 'Track Count': 1, 'Year': 2007, 'Date Modified': datetime.datetime(2015, 9, 21, 1, 32, 33), 'Date Added': datetime.datetime(2009, 3, 22, 17, 49, 56), 'Bit Rate': 256, 'Sample Rate': 44100, 'Play Count': 2, 'Play Date': 3494989336, 'Play Date UTC': datetime.datetime(2014, 10, 1, 10, 22, 16), 'Skip Count': 2, 'Skip Date': datetime.datetime(2015, 9, 21, 0, 28, 14), 'Normalization': 520, 'Artwork Count': 1, 'Sort Album': 'Girls Just Want to Have Fun (Demo) - Single', 'Sort Artist': 'Greg Laswell', 'Sort Name': 'Girls Just Want to Have Fun (Demo)', 'Persistent ID': '9FC859B85CE07F50', 'Track Type': 'File', 'Purchased': True, 'Location': 'file:///Users/garrisonlemasters/Music/iTunes/iTunes%20Media/Music/Greg%20Laswell/Girls%20Just%20Want%20to%20Have%20Fun%20(Demo)%20-%20Single/01%20Girls%20Just%20Want%20to%20Have%20Fun%20(Demo).m4a', 'File Folder Count': 5, 'Library Folder Count': 1}, '1540': {'Track ID': 1540, 'Name': 'Jerusalem', 'Artist': 'Dan Bern', 'Album Artist': 'Dan Bern', 'Composer': 'D. Bern', 'Album': 'Dan Bern', 'Genre': 'Rock', 'Kind': 'Purchased AAC audio file', 'Size': 7969981, 'Total Time': 224426, 'Disc Number': 1, 'Disc Count': 1, 'Track Number': 1, 'Track Count': 11, 'Year': 1997, 'Date Modified': datetime.datetime(2015, 9, 21, 1, 32, 31), 'Date Added': datetime.datetime(2009, 1, 12, 10, 6, 55), 'Bit Rate': 256, 'Sample Rate': 44100, 'Play Count': 19, 'Play Date': 3531207895, 'Play Date UTC': datetime.datetime(2015, 11, 24, 16, 4, 55), 'Skip Count': 1, 'Skip Date': datetime.datetime(2015, 9, 21, 0, 28, 10), 'Normalization': 1666, 'Artwork Count': 1, 'Sort Album': 'Dan Bern', 'Sort Artist': 'Dan Bern', 'Sort Name': 'Jerusalem', 'Persistent ID': 'F95E7D8FAAB70FFF', 'Track Type': 'File', 'Purchased': True, 'Location': 'file:///Users/garrisonlemasters/Music/iTunes/iTunes%20Media/Music/Dan%20Bern/Dan%20Bern/01%20Jerusalem.m4a', 'File Folder Count': 5, 'Library Folder Count': 1}, '1560': {'Track ID': 1560, 'Name': 'See You Space Cowboy...', 'Artist': 'Mai Yamane', 'Composer': 'Yoko Kanno', 'Album': 'Cowboy Bebop OST 3 - BLUE', 'Genre': 'Soundtrack', 'Kind': 'Matched AAC audio file', 'Size': 13047749, 'Total Time': 355501, 'Track Number': 17, 'Year': 1999, 'Date Modified': datetime.datetime(2015, 9, 21, 1, 32, 55), 'Date Added': datetime.datetime(2013, 1, 31, 20, 13, 22), 'Bit Rate': 256, 'Sample Rate': 44100, 'Play Count': 1, 'Play Date': 3533876718, 'Play Date UTC': datetime.datetime(2015, 12, 25, 13, 25, 18), 'Normalization': 2052, 'Compilation': True, 'Artwork Count': 1, 'Persistent ID': '4D2E0547AFFBEC46', 'Track Type': 'File', 'Matched': True, 'Location': 'file:///Users/garrisonlemasters/Music/iTunes/iTunes%20Media/Music/Compilations/Cowboy%20Bebop%20OST%203%20-%20BLUE/17%20See%20You%20Space%20Cowboy....m4a', 'File Folder Count': 5, 'Library Folder Count': 1}, '1588': {'Track ID': 1588, 'Name': 'Glory Box', 'Artist': 'Portishead', 'Album': 'Dummy', 'Kind': 'Matched AAC audio file', 'Size': 10552169, 'Total Time': 304693, 'Track Number': 11, 'Year': 1994, 'Date Modified': datetime.datetime(2015, 9, 21, 1, 32, 37), 'Date Added': datetime.datetime(2013, 1, 31, 20, 14, 32), 'Bit Rate': 256, 'Sample Rate': 44100, 'Comments': 'Adjusted by iVolume 10/09/2006 23:16:10\\n', 'Play Count': 5, 'Play Date': 3562669609, 'Play Date UTC': datetime.datetime(2016, 11, 22, 19, 26, 49), 'Skip Date': datetime.datetime(2015, 9, 21, 1, 28, 54), 'Normalization': 1423, 'Artwork Count': 1, 'Persistent ID': '17475BB17E0B7B90', 'Track Type': 'File', 'Matched': True, 'Location': 'file:///Users/garrisonlemasters/Music/iTunes/iTunes%20Media/Music/Portishead/Dummy/11%20Glory%20Box.m4a', 'File Folder Count': 5, 'Library Folder Count': 1}}, 'Playlists': [{'Name': 'cooool', 'Description': '', 'Playlist ID': 31771, 'Playlist Persistent ID': '1DFA8BDCC9C6E8C4', 'All Items': True, 'Playlist Items': [{'Track ID': 1540}, {'Track ID': 1494}, {'Track ID': 1496}, {'Track ID': 1530}, {'Track ID': 1536}, {'Track ID': 1532}, {'Track ID': 1588}, {'Track ID': 1506}, {'Track ID': 1510}, {'Track ID': 1504}, {'Track ID': 1526}, {'Track ID': 1560}, {'Track ID': 1502}, {'Track ID': 1498}]}]}\n"
     ]
    }
   ],
   "source": [
    "print(songLibraryData)"
   ]
  },
  {
   "cell_type": "markdown",
   "metadata": {},
   "source": [
    "A good sign!\n",
    "\n",
    "We can read it!  \n",
    "\n",
    "Sort of, at least.  Take a moment and compare what you see rendered by the plistlib with the original text of the .xml file (below).  You can see that there have been some significant changes:  The **header** is gone; in the processed code, single quotes (above) have replaced most tags (below).  And so on."
   ]
  },
  {
   "cell_type": "markdown",
   "metadata": {},
   "source": [
    "    <?xml version=\"1.0\" encoding=\"UTF-8\"?>\n",
    "    <!DOCTYPE plist PUBLIC \"-//Apple Computer//DTD PLIST 1.0//EN\" \"http://www.apple.com/DTDs/PropertyList-1.0.dtd\">\n",
    "    <plist version=\"1.0\">\n",
    "    <dict>\n",
    "        <key>Major Version</key><integer>1</integer>\n",
    "        <key>Minor Version</key><integer>1</integer>\n",
    "        <key>Date</key><date>2018-02-08T16:16:42Z</date>\n",
    "        <key>Application Version</key><string>12.7.3.46</string>\n",
    "        <key>Features</key><integer>5</integer>\n",
    "        <key>Show Content Ratings</key><true/>"
   ]
  },
  {
   "cell_type": "code",
   "execution_count": 7,
   "metadata": {},
   "outputs": [],
   "source": [
    "import plistlib\n",
    "import pandas"
   ]
  },
  {
   "cell_type": "code",
   "execution_count": 8,
   "metadata": {},
   "outputs": [],
   "source": [
    "fileName = 'drm_itunes.xml'\n",
    "myFileObject = open(fileName, 'rb')\n",
    "songLibraryData = plistlib.load(myFileObject)"
   ]
  },
  {
   "cell_type": "code",
   "execution_count": 9,
   "metadata": {},
   "outputs": [],
   "source": [
    "# Prep the arrays to hold the lists of data\n",
    "# trackSerial will be where we store trackID:  The four-digit\n",
    "# code assigned each track inside the .xml file\n",
    "# The only non-obvious one is trackTime:\n",
    "# In the .xml, that is an integer describing the\n",
    "# the length of a song in milliseconds.\n",
    "# So for minutes, we need to divide by 1000\n",
    "# and then by 60...\n",
    "\n",
    "trackSerial=[]\n",
    "trackName=[]\n",
    "trackArtist=[]\n",
    "trackAlbum=[]\n",
    "trackTime = []\n",
    "trackYear = []"
   ]
  },
  {
   "cell_type": "code",
   "execution_count": 10,
   "metadata": {},
   "outputs": [],
   "source": [
    "# If you look closely at the .xml file, you'll see\n",
    "# that most of the data is organized into sets of curly\n",
    "# braces.  If we look at the top-most name for those sets,\n",
    "# we see that it is 'Tracks'.  The library is organized\n",
    "# into units called 'Tracks'."
   ]
  },
  {
   "cell_type": "markdown",
   "metadata": {},
   "source": [
    "```\n",
    "{\n",
    "    'Major Version': 1, \n",
    "    'Minor Version': 1,\n",
    "    'Features': 5, \n",
    "    'Show Content Ratings': True, \n",
    "    'Tracks': {\n",
    "        '1494': {\n",
    "            'Track ID': 1494, \n",
    "            'Name': 'Take on Me', \n",
    "            'Artist': 'NO BS! Brass',\n",
    "            'Library Folder Count': 1\n",
    "             }, \n",
    "         '1496': {\n",
    "             'Track ID': 1496, \n",
    "             'Name': 'Splatter Splatter', \n",
    "             'Artist': 'Moxy Fruvous'...\n",
    "             }\n",
    "             ```"
   ]
  },
  {
   "cell_type": "markdown",
   "metadata": {},
   "source": [
    "Again, this is basically just a Dictionary, and everything is ordered in KVPs:  Key-Value Pairs.  The Key is the term you look up, and the Value is its definition.  They are separated by a colon.  \n",
    "\n",
    "THE TRICK HERE is that the VALUE of a KEY is frequently more than just a number or a word.  It often is, for example, a second KVP.  This sounds complicated.  It is not:  Just work backwards from our earlier metaphor:  If we use a dictionary to keep track of the meaning of each word, then how might we keep track of the different kinds of dictionaries we keep?  Right:  Inside a dictionary of dictionaries.\n",
    "\n",
    "The important thing is that everything resolves to a single K and a single V -- even if that single V is actually a pair of curly braces with lots and lots of messy things deep down inside it.  We just need to be sure that if we climb all the way to the top of the data set, we have one K for one V."
   ]
  },
  {
   "cell_type": "code",
   "execution_count": 11,
   "metadata": {},
   "outputs": [],
   "source": [
    "# That's what we've got here.  'Tracks' is one of the topmost\n",
    "# Keys in our .XML file.  Inside the VALUE for that one Key\n",
    "# is our entire music collection.  So it makes sense that\n",
    "# it is the Key we want to open:\n",
    "tracks = songLibraryData['Tracks']"
   ]
  },
  {
   "cell_type": "code",
   "execution_count": 12,
   "metadata": {},
   "outputs": [],
   "source": [
    "# in order to iterate through data, Python\n",
    "# prefers this for statement.  You'll see\n",
    "# it everywhere you go.\n",
    "\n",
    "# Here's an archetypal version of it:\n",
    "# for KEY, VALUE in DICTIONARY.items():\n",
    "# It just means \"Get a key and a value\n",
    "# from each item in this dictionary.\"\n",
    "\n",
    "# As I get each value, I \"append\" that\n",
    "# information to a list of similar data.\n",
    "# (Append just means \"add to the end\n",
    "# of the current list\").\n",
    "\n",
    "# So for trackYear, for example:\n",
    "# trackYear = ['1994']\n",
    "# and then trackYear.append('1999')\n",
    "# so trackYear = ['1994', '1999']\n",
    "# and then trackYear.append('2000')\n",
    "# so trackYear = ['1994', '1999', '2000']\n",
    "\n",
    "for trackID,track in tracks.items():\n",
    "    trackSerial.append(trackID)\n",
    "    trackName.append(track['Name'])\n",
    "    trackAlbum.append(track['Album'])\n",
    "    trackArtist.append(track['Artist'])\n",
    "    trackYear.append(track['Year'])\n",
    "    trackTime.append(track['Total Time'])"
   ]
  },
  {
   "cell_type": "code",
   "execution_count": 13,
   "metadata": {},
   "outputs": [
    {
     "name": "stdout",
     "output_type": "stream",
     "text": [
      "Journey of the Sorcerer\n",
      "Béla Fleck & The Flecktones: Greatest Hits of the 20th Century\n",
      "Moxy Fruvous\n"
     ]
    }
   ],
   "source": [
    "# Look at some random data\n",
    "print(trackName[2])\n",
    "print(trackAlbum[6])\n",
    "print(trackArtist[1])\n",
    "\n",
    "# Just a word of warning:  We're not slowing down\n",
    "# to bother with Error Checking, although we\n",
    "# probably should.  Because of that, if any of \n",
    "# our data is off-kilter or is missing a line or\n",
    "# two of values, everything will go to hell quickly.\n",
    "# With \"real\" data, you can't afford to skip\n",
    "# error-handling.  Here we can, because I've\n",
    "# pre-screened this dataset and I know it is\n",
    "# 100% complete."
   ]
  },
  {
   "cell_type": "code",
   "execution_count": 14,
   "metadata": {},
   "outputs": [],
   "source": [
    "# You know why I love the PANDAS library so much?  \n",
    "# Because it always seems to work.  Plus I love\n",
    "# writing code that talks to pandas.\n",
    "\n",
    "TianTian = pandas.DataFrame({\n",
    "    'TrackID':trackSerial,\n",
    "    'Name':trackName,\n",
    "    'Album':trackAlbum,\n",
    "    'Artist':trackArtist,\n",
    "    'Year':trackYear,\n",
    "    'Duration':trackTime\n",
    "    })"
   ]
  },
  {
   "cell_type": "markdown",
   "metadata": {},
   "source": [
    "## The Payoff"
   ]
  },
  {
   "cell_type": "markdown",
   "metadata": {},
   "source": [
    "The payoff here is pretty great, I think.  Yes, it took a while to get here, but look at what we can do in a single line.  Below, I'm telling TianTian to sort his list by Year, and to add a bar graph to the Duration column, showing relative lengths of each song.'"
   ]
  },
  {
   "cell_type": "code",
   "execution_count": 15,
   "metadata": {},
   "outputs": [
    {
     "data": {
      "text/html": [
       "<style  type=\"text/css\" >\n",
       "    #T_90a8e070_1652_11e8_8b08_a0999b180661row0_col2 {\n",
       "            width:  10em;\n",
       "             height:  80%;\n",
       "            background:  linear-gradient(90deg,#ffcc33 14.4%, transparent 0%);\n",
       "        }    #T_90a8e070_1652_11e8_8b08_a0999b180661row1_col2 {\n",
       "            width:  10em;\n",
       "             height:  80%;\n",
       "            background:  linear-gradient(90deg,#ffcc33 33.5%, transparent 0%);\n",
       "        }    #T_90a8e070_1652_11e8_8b08_a0999b180661row2_col2 {\n",
       "            width:  10em;\n",
       "             height:  80%;\n",
       "            background:  linear-gradient(90deg,#ffcc33 100.0%, transparent 0%);\n",
       "        }    #T_90a8e070_1652_11e8_8b08_a0999b180661row3_col2 {\n",
       "            width:  10em;\n",
       "             height:  80%;\n",
       "            background:  linear-gradient(90deg,#ffcc33 15.3%, transparent 0%);\n",
       "        }    #T_90a8e070_1652_11e8_8b08_a0999b180661row4_col2 {\n",
       "            width:  10em;\n",
       "             height:  80%;\n",
       "            background:  linear-gradient(90deg,#ffcc33 5.2%, transparent 0%);\n",
       "        }    #T_90a8e070_1652_11e8_8b08_a0999b180661row5_col2 {\n",
       "            width:  10em;\n",
       "             height:  80%;\n",
       "            background:  linear-gradient(90deg,#ffcc33 40.0%, transparent 0%);\n",
       "        }    #T_90a8e070_1652_11e8_8b08_a0999b180661row6_col2 {\n",
       "            width:  10em;\n",
       "             height:  80%;\n",
       "            background:  linear-gradient(90deg,#ffcc33 45.1%, transparent 0%);\n",
       "        }    #T_90a8e070_1652_11e8_8b08_a0999b180661row7_col2 {\n",
       "            width:  10em;\n",
       "             height:  80%;\n",
       "            background:  linear-gradient(90deg,#ffcc33 8.9%, transparent 0%);\n",
       "        }    #T_90a8e070_1652_11e8_8b08_a0999b180661row8_col2 {\n",
       "            width:  10em;\n",
       "             height:  80%;\n",
       "            background:  linear-gradient(90deg,#ffcc33 2.1%, transparent 0%);\n",
       "        }    #T_90a8e070_1652_11e8_8b08_a0999b180661row9_col2 {\n",
       "            width:  10em;\n",
       "             height:  80%;\n",
       "        }    #T_90a8e070_1652_11e8_8b08_a0999b180661row10_col2 {\n",
       "            width:  10em;\n",
       "             height:  80%;\n",
       "            background:  linear-gradient(90deg,#ffcc33 8.7%, transparent 0%);\n",
       "        }    #T_90a8e070_1652_11e8_8b08_a0999b180661row11_col2 {\n",
       "            width:  10em;\n",
       "             height:  80%;\n",
       "            background:  linear-gradient(90deg,#ffcc33 30.0%, transparent 0%);\n",
       "        }    #T_90a8e070_1652_11e8_8b08_a0999b180661row12_col2 {\n",
       "            width:  10em;\n",
       "             height:  80%;\n",
       "            background:  linear-gradient(90deg,#ffcc33 54.5%, transparent 0%);\n",
       "        }    #T_90a8e070_1652_11e8_8b08_a0999b180661row13_col2 {\n",
       "            width:  10em;\n",
       "             height:  80%;\n",
       "            background:  linear-gradient(90deg,#ffcc33 9.9%, transparent 0%);\n",
       "        }</style>  \n",
       "<table id=\"T_90a8e070_1652_11e8_8b08_a0999b180661\" > \n",
       "<thead>    <tr> \n",
       "        <th class=\"blank level0\" ></th> \n",
       "        <th class=\"col_heading level0 col0\" >Album</th> \n",
       "        <th class=\"col_heading level0 col1\" >Artist</th> \n",
       "        <th class=\"col_heading level0 col2\" >Duration</th> \n",
       "        <th class=\"col_heading level0 col3\" >Name</th> \n",
       "        <th class=\"col_heading level0 col4\" >TrackID</th> \n",
       "        <th class=\"col_heading level0 col5\" >Year</th> \n",
       "    </tr></thead> \n",
       "<tbody>    <tr> \n",
       "        <th id=\"T_90a8e070_1652_11e8_8b08_a0999b180661level0_row0\" class=\"row_heading level0 row0\" >3</th> \n",
       "        <td id=\"T_90a8e070_1652_11e8_8b08_a0999b180661row0_col0\" class=\"data row0 col0\" >Queen: Greatest Hits I & II</td> \n",
       "        <td id=\"T_90a8e070_1652_11e8_8b08_a0999b180661row0_col1\" class=\"data row0 col1\" >Queen</td> \n",
       "        <td id=\"T_90a8e070_1652_11e8_8b08_a0999b180661row0_col2\" class=\"data row0 col2\" >220466</td> \n",
       "        <td id=\"T_90a8e070_1652_11e8_8b08_a0999b180661row0_col3\" class=\"data row0 col3\" >Hammer to Fall (Single Version)</td> \n",
       "        <td id=\"T_90a8e070_1652_11e8_8b08_a0999b180661row0_col4\" class=\"data row0 col4\" >1502</td> \n",
       "        <td id=\"T_90a8e070_1652_11e8_8b08_a0999b180661row0_col5\" class=\"data row0 col5\" >1992</td> \n",
       "    </tr>    <tr> \n",
       "        <th id=\"T_90a8e070_1652_11e8_8b08_a0999b180661level0_row1\" class=\"row_heading level0 row1\" >13</th> \n",
       "        <td id=\"T_90a8e070_1652_11e8_8b08_a0999b180661row1_col0\" class=\"data row1 col0\" >Dummy</td> \n",
       "        <td id=\"T_90a8e070_1652_11e8_8b08_a0999b180661row1_col1\" class=\"data row1 col1\" >Portishead</td> \n",
       "        <td id=\"T_90a8e070_1652_11e8_8b08_a0999b180661row1_col2\" class=\"data row1 col2\" >304693</td> \n",
       "        <td id=\"T_90a8e070_1652_11e8_8b08_a0999b180661row1_col3\" class=\"data row1 col3\" >Glory Box</td> \n",
       "        <td id=\"T_90a8e070_1652_11e8_8b08_a0999b180661row1_col4\" class=\"data row1 col4\" >1588</td> \n",
       "        <td id=\"T_90a8e070_1652_11e8_8b08_a0999b180661row1_col5\" class=\"data row1 col5\" >1994</td> \n",
       "    </tr>    <tr> \n",
       "        <th id=\"T_90a8e070_1652_11e8_8b08_a0999b180661level0_row2\" class=\"row_heading level0 row2\" >4</th> \n",
       "        <td id=\"T_90a8e070_1652_11e8_8b08_a0999b180661row2_col0\" class=\"data row2 col0\" >This Is Jazz #16</td> \n",
       "        <td id=\"T_90a8e070_1652_11e8_8b08_a0999b180661row2_col1\" class=\"data row2 col1\" >Maynard Ferguson</td> \n",
       "        <td id=\"T_90a8e070_1652_11e8_8b08_a0999b180661row2_col2\" class=\"data row2 col2\" >597466</td> \n",
       "        <td id=\"T_90a8e070_1652_11e8_8b08_a0999b180661row2_col3\" class=\"data row2 col3\" >MacArthur Park</td> \n",
       "        <td id=\"T_90a8e070_1652_11e8_8b08_a0999b180661row2_col4\" class=\"data row2 col4\" >1504</td> \n",
       "        <td id=\"T_90a8e070_1652_11e8_8b08_a0999b180661row2_col5\" class=\"data row2 col5\" >1996</td> \n",
       "    </tr>    <tr> \n",
       "        <th id=\"T_90a8e070_1652_11e8_8b08_a0999b180661level0_row3\" class=\"row_heading level0 row3\" >11</th> \n",
       "        <td id=\"T_90a8e070_1652_11e8_8b08_a0999b180661row3_col0\" class=\"data row3 col0\" >Dan Bern</td> \n",
       "        <td id=\"T_90a8e070_1652_11e8_8b08_a0999b180661row3_col1\" class=\"data row3 col1\" >Dan Bern</td> \n",
       "        <td id=\"T_90a8e070_1652_11e8_8b08_a0999b180661row3_col2\" class=\"data row3 col2\" >224426</td> \n",
       "        <td id=\"T_90a8e070_1652_11e8_8b08_a0999b180661row3_col3\" class=\"data row3 col3\" >Jerusalem</td> \n",
       "        <td id=\"T_90a8e070_1652_11e8_8b08_a0999b180661row3_col4\" class=\"data row3 col4\" >1540</td> \n",
       "        <td id=\"T_90a8e070_1652_11e8_8b08_a0999b180661row3_col5\" class=\"data row3 col5\" >1997</td> \n",
       "    </tr>    <tr> \n",
       "        <th id=\"T_90a8e070_1652_11e8_8b08_a0999b180661level0_row4\" class=\"row_heading level0 row4\" >1</th> \n",
       "        <td id=\"T_90a8e070_1652_11e8_8b08_a0999b180661row4_col0\" class=\"data row4 col0\" >Thornhill</td> \n",
       "        <td id=\"T_90a8e070_1652_11e8_8b08_a0999b180661row4_col1\" class=\"data row4 col1\" >Moxy Fruvous</td> \n",
       "        <td id=\"T_90a8e070_1652_11e8_8b08_a0999b180661row4_col2\" class=\"data row4 col2\" >179731</td> \n",
       "        <td id=\"T_90a8e070_1652_11e8_8b08_a0999b180661row4_col3\" class=\"data row4 col3\" >Splatter Splatter</td> \n",
       "        <td id=\"T_90a8e070_1652_11e8_8b08_a0999b180661row4_col4\" class=\"data row4 col4\" >1496</td> \n",
       "        <td id=\"T_90a8e070_1652_11e8_8b08_a0999b180661row4_col5\" class=\"data row4 col5\" >1999</td> \n",
       "    </tr>    <tr> \n",
       "        <th id=\"T_90a8e070_1652_11e8_8b08_a0999b180661level0_row5\" class=\"row_heading level0 row5\" >6</th> \n",
       "        <td id=\"T_90a8e070_1652_11e8_8b08_a0999b180661row5_col0\" class=\"data row5 col0\" >Béla Fleck & The Flecktones: Greatest Hits of the 20th Century</td> \n",
       "        <td id=\"T_90a8e070_1652_11e8_8b08_a0999b180661row5_col1\" class=\"data row5 col1\" >Béla Fleck & The Flecktones</td> \n",
       "        <td id=\"T_90a8e070_1652_11e8_8b08_a0999b180661row5_col2\" class=\"data row5 col2\" >333080</td> \n",
       "        <td id=\"T_90a8e070_1652_11e8_8b08_a0999b180661row5_col3\" class=\"data row5 col3\" >Big Country</td> \n",
       "        <td id=\"T_90a8e070_1652_11e8_8b08_a0999b180661row5_col4\" class=\"data row5 col4\" >1510</td> \n",
       "        <td id=\"T_90a8e070_1652_11e8_8b08_a0999b180661row5_col5\" class=\"data row5 col5\" >1999</td> \n",
       "    </tr>    <tr> \n",
       "        <th id=\"T_90a8e070_1652_11e8_8b08_a0999b180661level0_row6\" class=\"row_heading level0 row6\" >12</th> \n",
       "        <td id=\"T_90a8e070_1652_11e8_8b08_a0999b180661row6_col0\" class=\"data row6 col0\" >Cowboy Bebop OST 3 - BLUE</td> \n",
       "        <td id=\"T_90a8e070_1652_11e8_8b08_a0999b180661row6_col1\" class=\"data row6 col1\" >Mai Yamane</td> \n",
       "        <td id=\"T_90a8e070_1652_11e8_8b08_a0999b180661row6_col2\" class=\"data row6 col2\" >355501</td> \n",
       "        <td id=\"T_90a8e070_1652_11e8_8b08_a0999b180661row6_col3\" class=\"data row6 col3\" >See You Space Cowboy...</td> \n",
       "        <td id=\"T_90a8e070_1652_11e8_8b08_a0999b180661row6_col4\" class=\"data row6 col4\" >1560</td> \n",
       "        <td id=\"T_90a8e070_1652_11e8_8b08_a0999b180661row6_col5\" class=\"data row6 col5\" >1999</td> \n",
       "    </tr>    <tr> \n",
       "        <th id=\"T_90a8e070_1652_11e8_8b08_a0999b180661level0_row7\" class=\"row_heading level0 row7\" >7</th> \n",
       "        <td id=\"T_90a8e070_1652_11e8_8b08_a0999b180661row7_col0\" class=\"data row7 col0\" >England, Half English</td> \n",
       "        <td id=\"T_90a8e070_1652_11e8_8b08_a0999b180661row7_col1\" class=\"data row7 col1\" >Billy Bragg</td> \n",
       "        <td id=\"T_90a8e070_1652_11e8_8b08_a0999b180661row7_col2\" class=\"data row7 col2\" >196293</td> \n",
       "        <td id=\"T_90a8e070_1652_11e8_8b08_a0999b180661row7_col3\" class=\"data row7 col3\" >Take Down the Union Jack</td> \n",
       "        <td id=\"T_90a8e070_1652_11e8_8b08_a0999b180661row7_col4\" class=\"data row7 col4\" >1526</td> \n",
       "        <td id=\"T_90a8e070_1652_11e8_8b08_a0999b180661row7_col5\" class=\"data row7 col5\" >2002</td> \n",
       "    </tr>    <tr> \n",
       "        <th id=\"T_90a8e070_1652_11e8_8b08_a0999b180661level0_row8\" class=\"row_heading level0 row8\" >8</th> \n",
       "        <td id=\"T_90a8e070_1652_11e8_8b08_a0999b180661row8_col0\" class=\"data row8 col0\" >Quelqu'un m'a dit</td> \n",
       "        <td id=\"T_90a8e070_1652_11e8_8b08_a0999b180661row8_col1\" class=\"data row8 col1\" >Carla Bruni</td> \n",
       "        <td id=\"T_90a8e070_1652_11e8_8b08_a0999b180661row8_col2\" class=\"data row8 col2\" >166226</td> \n",
       "        <td id=\"T_90a8e070_1652_11e8_8b08_a0999b180661row8_col3\" class=\"data row8 col3\" >Quelqu'un m'a dit</td> \n",
       "        <td id=\"T_90a8e070_1652_11e8_8b08_a0999b180661row8_col4\" class=\"data row8 col4\" >1530</td> \n",
       "        <td id=\"T_90a8e070_1652_11e8_8b08_a0999b180661row8_col5\" class=\"data row8 col5\" >2002</td> \n",
       "    </tr>    <tr> \n",
       "        <th id=\"T_90a8e070_1652_11e8_8b08_a0999b180661level0_row9\" class=\"row_heading level0 row9\" >10</th> \n",
       "        <td id=\"T_90a8e070_1652_11e8_8b08_a0999b180661row9_col0\" class=\"data row9 col0\" >Girls Just Want to Have Fun (Demo) - Single</td> \n",
       "        <td id=\"T_90a8e070_1652_11e8_8b08_a0999b180661row9_col1\" class=\"data row9 col1\" >Greg Laswell</td> \n",
       "        <td id=\"T_90a8e070_1652_11e8_8b08_a0999b180661row9_col2\" class=\"data row9 col2\" >156923</td> \n",
       "        <td id=\"T_90a8e070_1652_11e8_8b08_a0999b180661row9_col3\" class=\"data row9 col3\" >Girls Just Want to Have Fun (Demo)</td> \n",
       "        <td id=\"T_90a8e070_1652_11e8_8b08_a0999b180661row9_col4\" class=\"data row9 col4\" >1536</td> \n",
       "        <td id=\"T_90a8e070_1652_11e8_8b08_a0999b180661row9_col5\" class=\"data row9 col5\" >2007</td> \n",
       "    </tr>    <tr> \n",
       "        <th id=\"T_90a8e070_1652_11e8_8b08_a0999b180661level0_row10\" class=\"row_heading level0 row10\" >0</th> \n",
       "        <td id=\"T_90a8e070_1652_11e8_8b08_a0999b180661row10_col0\" class=\"data row10 col0\" >Alive in Richmond 2.0</td> \n",
       "        <td id=\"T_90a8e070_1652_11e8_8b08_a0999b180661row10_col1\" class=\"data row10 col1\" >NO BS! Brass</td> \n",
       "        <td id=\"T_90a8e070_1652_11e8_8b08_a0999b180661row10_col2\" class=\"data row10 col2\" >195440</td> \n",
       "        <td id=\"T_90a8e070_1652_11e8_8b08_a0999b180661row10_col3\" class=\"data row10 col3\" >Take on Me</td> \n",
       "        <td id=\"T_90a8e070_1652_11e8_8b08_a0999b180661row10_col4\" class=\"data row10 col4\" >1494</td> \n",
       "        <td id=\"T_90a8e070_1652_11e8_8b08_a0999b180661row10_col5\" class=\"data row10 col5\" >2011</td> \n",
       "    </tr>    <tr> \n",
       "        <th id=\"T_90a8e070_1652_11e8_8b08_a0999b180661level0_row11\" class=\"row_heading level0 row11\" >5</th> \n",
       "        <td id=\"T_90a8e070_1652_11e8_8b08_a0999b180661row11_col0\" class=\"data row11 col0\" >Creep Live At (Le)Poisson Rouge - Single</td> \n",
       "        <td id=\"T_90a8e070_1652_11e8_8b08_a0999b180661row11_col1\" class=\"data row11 col1\" >Carrie Manolakos</td> \n",
       "        <td id=\"T_90a8e070_1652_11e8_8b08_a0999b180661row11_col2\" class=\"data row11 col2\" >288993</td> \n",
       "        <td id=\"T_90a8e070_1652_11e8_8b08_a0999b180661row11_col3\" class=\"data row11 col3\" >Creep Live At (Le)Poisson Rouge</td> \n",
       "        <td id=\"T_90a8e070_1652_11e8_8b08_a0999b180661row11_col4\" class=\"data row11 col4\" >1506</td> \n",
       "        <td id=\"T_90a8e070_1652_11e8_8b08_a0999b180661row11_col5\" class=\"data row11 col5\" >2012</td> \n",
       "    </tr>    <tr> \n",
       "        <th id=\"T_90a8e070_1652_11e8_8b08_a0999b180661level0_row12\" class=\"row_heading level0 row12\" >2</th> \n",
       "        <td id=\"T_90a8e070_1652_11e8_8b08_a0999b180661row12_col0\" class=\"data row12 col0\" >The Studio Albums 1972-1979</td> \n",
       "        <td id=\"T_90a8e070_1652_11e8_8b08_a0999b180661row12_col1\" class=\"data row12 col1\" >Eagles</td> \n",
       "        <td id=\"T_90a8e070_1652_11e8_8b08_a0999b180661row12_col2\" class=\"data row12 col2\" >396921</td> \n",
       "        <td id=\"T_90a8e070_1652_11e8_8b08_a0999b180661row12_col3\" class=\"data row12 col3\" >Journey of the Sorcerer</td> \n",
       "        <td id=\"T_90a8e070_1652_11e8_8b08_a0999b180661row12_col4\" class=\"data row12 col4\" >1498</td> \n",
       "        <td id=\"T_90a8e070_1652_11e8_8b08_a0999b180661row12_col5\" class=\"data row12 col5\" >2013</td> \n",
       "    </tr>    <tr> \n",
       "        <th id=\"T_90a8e070_1652_11e8_8b08_a0999b180661level0_row13\" class=\"row_heading level0 row13\" >9</th> \n",
       "        <td id=\"T_90a8e070_1652_11e8_8b08_a0999b180661row13_col0\" class=\"data row13 col0\" >Pure Imagination - Single</td> \n",
       "        <td id=\"T_90a8e070_1652_11e8_8b08_a0999b180661row13_col1\" class=\"data row13 col1\" >Fiona Apple</td> \n",
       "        <td id=\"T_90a8e070_1652_11e8_8b08_a0999b180661row13_col2\" class=\"data row13 col2\" >200662</td> \n",
       "        <td id=\"T_90a8e070_1652_11e8_8b08_a0999b180661row13_col3\" class=\"data row13 col3\" >Pure Imagination</td> \n",
       "        <td id=\"T_90a8e070_1652_11e8_8b08_a0999b180661row13_col4\" class=\"data row13 col4\" >1532</td> \n",
       "        <td id=\"T_90a8e070_1652_11e8_8b08_a0999b180661row13_col5\" class=\"data row13 col5\" >2013</td> \n",
       "    </tr></tbody> \n",
       "</table> "
      ],
      "text/plain": [
       "<pandas.io.formats.style.Styler at 0x110fe5748>"
      ]
     },
     "execution_count": 15,
     "metadata": {},
     "output_type": "execute_result"
    }
   ],
   "source": [
    "TianTian.sort_values(by='Year').style.bar(subset='Duration', color='#ffcc33')"
   ]
  },
  {
   "cell_type": "code",
   "execution_count": 16,
   "metadata": {},
   "outputs": [],
   "source": [
    "# Finally, saving from PANDAS is soooo easy:  Ready?\n",
    "TianTian.to_csv(\"myTunesData.csv\")    "
   ]
  }
 ],
 "metadata": {
  "celltoolbar": "Raw Cell Format",
  "kernelspec": {
   "display_name": "Python 3",
   "language": "python",
   "name": "python3"
  },
  "language_info": {
   "codemirror_mode": {
    "name": "ipython",
    "version": 3
   },
   "file_extension": ".py",
   "mimetype": "text/x-python",
   "name": "python",
   "nbconvert_exporter": "python",
   "pygments_lexer": "ipython3",
   "version": "3.6.4"
  }
 },
 "nbformat": 4,
 "nbformat_minor": 2
}
