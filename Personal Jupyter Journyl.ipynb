{
 "cells": [
  {
   "cell_type": "markdown",
   "metadata": {},
   "source": [
    "### Inquiry:  Manipulating Strings in Python / Jupyter"
   ]
  },
  {
   "cell_type": "markdown",
   "metadata": {},
   "source": [
    "**The problem**:  Strings -- what are they good for?  How do they work?  Why do programming languages distinguish between \"strings\" and, say, \"integers\"?  When I work on code to collect or parse data science information, I feel as though my imperfect knowledge of how variables work gets in the way.  So I'd like to work through some spur-of-the-moment exercises, asking questions, looking up information online, and testing, testing, testing my working hypotheses.\n",
    "\n",
    "**Spoiler alert**:  The answers are not what really matters here.  Instead, *it is the questions that matter*, together with your imaginative and on-going efforts to engage with those questions on an intuitive, engaged level."
   ]
  },
  {
   "cell_type": "markdown",
   "metadata": {},
   "source": [
    "This publicly-accessible page in my Jupyter Notebook is an excellent place to carry out my inquiry, and then to reshape that effort and share it with the world at large."
   ]
  },
  {
   "cell_type": "markdown",
   "metadata": {},
   "source": [
    "**Why is this worth doing?**  In part because, to my mind, *it is an exceptionally rich and rewarding form of learning*:  The 20th C. Swiss philosopher Piaget advocated that schools become places for \"learning without a curriculum.\"  That is, for learning that was *directed by students themselves*, and not by clueless institutions or hopelessly-out-of-date instructors; learning that served a student's private purposes, and in so doing helped to encourage her to define her world *on her terms*; learning that is *agile* and *adaptative* and *idiosyncratic* and *situated* because we 21st Century folk are fickle, and bored, and distracted, but we are prodigiously creative, and playful, and worlds are born with just the wave of a hand.  \n",
    "\n",
    "Look:  All of this can still be \"rigorous\" and \"accountable.\"  It can still be part of a practical education that is useful to us as workers, citizens, thinkers, *and* human beings.  *But let us be done with the mindless fantasy that \"rigorous\" and \"state-sanctioned\" have ever meant the same thing.*"
   ]
  },
  {
   "cell_type": "markdown",
   "metadata": {},
   "source": [
    "### Google Seems Like a Good Place to Start"
   ]
  },
  {
   "cell_type": "markdown",
   "metadata": {},
   "source": [
    "So if I'm going to understand strings better, I'm going to need to begin with some authorative insight.  Google for Education (Python) suggested itself.  It seems like a haphazard initiative -- sometimes they seem to be addressing working developers, and sometimes they seem to be aiming at students and educators.  Given the weird dynamics of the computational education space, it's a good bet that by now, *Google for Education* doesn't really know what it is.\n",
    "\n",
    "But they offer this fairly concise introduction to strings in Python.  Here are some of the assertions that they make about Strings, together with the experiments I conduct to understand what they mean.  In effect, doodles in the margins of a textbook."
   ]
  },
  {
   "cell_type": "markdown",
   "metadata": {},
   "source": [
    "This sentence alone offers plenty to chew on.\n",
    "\n",
    "> Characters in a string can be accessed using the standard [ ] syntax, and like Java and C++, Python uses zero-based indexing, so if str is 'hello' str[1] is 'e'."
   ]
  },
  {
   "cell_type": "markdown",
   "metadata": {},
   "source": [
    "Their example is too short to be useful, so I've got to get to work:"
   ]
  },
  {
   "cell_type": "code",
   "execution_count": 3,
   "metadata": {},
   "outputs": [
    {
     "name": "stdout",
     "output_type": "stream",
     "text": [
      "i\n",
      "2\n",
      "hi there\n"
     ]
    }
   ],
   "source": [
    "s = 'hi'\n",
    "print (s[1])\n",
    "print (len(s))\n",
    "print (s + ' there')"
   ]
  },
  {
   "cell_type": "markdown",
   "metadata": {},
   "source": [
    "Point the first:  The original version of that code (without parentheses) actually fails on my machine because I'm using Python3.  So:  Fail Whale.  Or Fail Python.  Whatever.  "
   ]
  },
  {
   "cell_type": "markdown",
   "metadata": {},
   "source": [
    "That 'hi' is a terrific example, though, right?  Some modest experiments, then:"
   ]
  },
  {
   "cell_type": "code",
   "execution_count": 26,
   "metadata": {},
   "outputs": [
    {
     "name": "stdout",
     "output_type": "stream",
     "text": [
      "et\n"
     ]
    }
   ],
   "source": [
    "myString = \"Alphabet soup\"\n",
    "print(myString[6] + myString[7])"
   ]
  },
  {
   "cell_type": "markdown",
   "metadata": {},
   "source": [
    "If a string variable has a pair of square brackets attached, then the number inside those brackets means \"letter number.\"  But here's the rub:  *Python is a \"zero-based\" indexing language*, which means that Python starts counting from ZERO, not from ONE as is (typically) the human custom.  Logical?  Sure.\n",
    "\n",
    "But is it practical?  *HELLS NO:  Confusing from here to the end of time.*"
   ]
  },
  {
   "cell_type": "code",
   "execution_count": 27,
   "metadata": {},
   "outputs": [
    {
     "name": "stdout",
     "output_type": "stream",
     "text": [
      "soup, soup\n"
     ]
    }
   ],
   "source": [
    "myString2 = myString[9]+myString[10]+myString[11]+myString[12]\n",
    "myString3 = myString2 + ', ' + myString2\n",
    "print(myString3)"
   ]
  },
  {
   "cell_type": "code",
   "execution_count": 28,
   "metadata": {},
   "outputs": [
    {
     "name": "stdout",
     "output_type": "stream",
     "text": [
      "soup, soupsoup, soupsoup, soup\n",
      "A\n"
     ]
    }
   ],
   "source": [
    "print(myString3 * 3)\n",
    "print(myString[0])"
   ]
  },
  {
   "cell_type": "markdown",
   "metadata": {},
   "source": [
    "So you'd expect that myString[1] would give us an \"A\", and myString[2] an \"l\", and myString[3] a \"p\", and so on.  But you'd be wrong.\n",
    "\n",
    "\n",
    "\n",
    "So let's see if I have this:"
   ]
  },
  {
   "cell_type": "code",
   "execution_count": 29,
   "metadata": {},
   "outputs": [
    {
     "name": "stdout",
     "output_type": "stream",
     "text": [
      "1\n",
      "2\n",
      "34\n"
     ]
    }
   ],
   "source": [
    "myString = \"12345\"\n",
    "print(myString[0])\n",
    "print(myString[1])\n",
    "# LOL\n",
    "\n",
    "# Wait:  Can I add strings?\n",
    "a = myString[2] + myString[3]\n",
    "# a = \"3\" + \"4\", right?\n",
    "print(a)\n",
    "# LOLCATS"
   ]
  },
  {
   "cell_type": "markdown",
   "metadata": {},
   "source": [
    "So strings are definitely not the same as integers.  The computer sees them differently."
   ]
  },
  {
   "cell_type": "code",
   "execution_count": 30,
   "metadata": {},
   "outputs": [
    {
     "name": "stdout",
     "output_type": "stream",
     "text": [
      "AGAM\n"
     ]
    }
   ],
   "source": [
    "myString = 'MAGA!' # 'Cause why not?\n",
    "print(myString[3]+myString[2]+myString[1]+myString[0])"
   ]
  },
  {
   "cell_type": "code",
   "execution_count": null,
   "metadata": {},
   "outputs": [],
   "source": []
  }
 ],
 "metadata": {
  "kernelspec": {
   "display_name": "Python 3",
   "language": "python",
   "name": "python3"
  },
  "language_info": {
   "codemirror_mode": {
    "name": "ipython",
    "version": 3
   },
   "file_extension": ".py",
   "mimetype": "text/x-python",
   "name": "python",
   "nbconvert_exporter": "python",
   "pygments_lexer": "ipython3",
   "version": "3.6.3"
  }
 },
 "nbformat": 4,
 "nbformat_minor": 2
}
