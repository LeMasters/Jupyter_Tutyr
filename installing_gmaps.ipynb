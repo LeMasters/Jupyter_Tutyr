{
 "cells": [
  {
   "cell_type": "markdown",
   "metadata": {},
   "source": [
    "# Installing the gmaps Library"
   ]
  },
  {
   "cell_type": "markdown",
   "metadata": {},
   "source": [
    "*\"It's just like having a tiny cartographer in your pocket!\"*"
   ]
  },
  {
   "cell_type": "markdown",
   "metadata": {},
   "source": [
    "Google provides us with an extraordinarily easy-to-use map API that isn't as flexible as a lot of other services, but is (1) free and (2) did I mention easy?  And though it isn't as flexible on the front-end (e.g., in terms of varying the colors of your maps, the density of given data, and so forth), it does give us a lot of opportunities to clutter their maps with our data.\n",
    "\n",
    "In order to ensure that I don't spend too long on this tutorial, I'm going to forgo deploying the maps with some of the sample data that Google attaches to the API (which I'll admit I have not seen anyone do before:  That's weird, right, building whole datasets into the API itself?).  There are other tutorials that can walk you through that, or I can do it, too (if you ask nicely).\n",
    "\n",
    "Right?  *So let's make a map or two.*  "
   ]
  },
  {
   "cell_type": "markdown",
   "metadata": {},
   "source": [
    ">**Spoiler Alert:**  Nearer the end, I'll show you can add your own research data (in the form of, for example, GPS data).  I'll use a .csv file I took from my iPhone last year, and I'll plot a commute.  While you're looking at it, think about how your work might benefit from a tool like this."
   ]
  },
  {
   "cell_type": "markdown",
   "metadata": {},
   "source": [
    "## Oooh, conda"
   ]
  },
  {
   "cell_type": "markdown",
   "metadata": {},
   "source": [
    "To make this work, we just need one library:  Google's eloquently named `gmaps` library.  But (there is always a \"but\", isn't there?) we need to tweak our package manager before we can install it."
   ]
  },
  {
   "cell_type": "markdown",
   "metadata": {},
   "source": [
    "### Programs are networks"
   ]
  },
  {
   "cell_type": "markdown",
   "metadata": {},
   "source": [
    "Recall that to install anything, we've traditionally turned to a command line program called `conda` (named for Condaleeza Rice, former Secretary of State) (true story!).  `Conda` is a package manager -- a specialized bit of code that works with the native operating system to control how other programs get installed, and uninstalled, from your computer.  Most consumers have never heard of package-managers because most consumer-oriented software (think MS Word and Adobe Photoshop) is sold as \"self-contained.\"  Microsoft doesn't (usually) ask you to worry about the libraries and fonts and codecs and scripts that MS Word needs to run:  They tend to just dump it all on your harddrive at once and wish you luck.  \n",
    "\n",
    "That works -- in part -- because Microsoft and Adobe are capital-fueled behemoths who can afford to buy the rights to whatever software libraries their suites depend upon.  Smaller software producers -- for both better and worse -- work differently.  While Microsoft (for example) presents each piece of software it sells as self-contained, smaller developers -- especially in the open source community -- usually make clear that their software depends upon other open-source software.  What to us may appear as a single program, in other words, is usually a network of independently-developed programs."
   ]
  },
  {
   "cell_type": "markdown",
   "metadata": {},
   "source": [
    "### VLC"
   ]
  },
  {
   "cell_type": "markdown",
   "metadata": {},
   "source": [
    "**VLC**, the robust open-source media player, is an excellent case in point.  Freely available for nearly every platform, VLC is as dependable a piece of software as I've ever used.  Just give it a file, or a stream, or a link, and if it can be played, VLC will play it.\n",
    "\n",
    "That \"ease of use\" comes at a cost, though:  To do anything a user might ask of the program, VLC relies on *nearly 70 other software libraries and codecs*.  `libmatroska`, for example, handles the muxing and demuxing of popular .mkv files;  `libpng` knows how to read a .png; `taglib` can read .mp3 metadata; `Upnp` handles, well, 'plug-n-play' network configuration."
   ]
  },
  {
   "cell_type": "markdown",
   "metadata": {},
   "source": [
    "    (For the whole list of dependencies, and their assorted licensing vagaries, [consult this wiki](https://wiki.videolan.org/Contrib_Status/); to learn about VLC itself, [visit their site](https://www.videolan.org/vlc/).)"
   ]
  },
  {
   "cell_type": "markdown",
   "metadata": {},
   "source": [
    "## Widening Our Gaze"
   ]
  },
  {
   "cell_type": "markdown",
   "metadata": {},
   "source": [
    "So what does `gmaps` depend upon, then?  Good question.  Here's the list."
   ]
  },
  {
   "cell_type": "markdown",
   "metadata": {},
   "source": [
    "    ipython:  Part of the Jupyter framework\n",
    "    ipywidgets:  Provides interactive HTML\n",
    "    traitlets:  Improves how Python handles variables (kinda)\n",
    "    geojson:  Format standard for encoding geographic features\n",
    "    six:  Tries to ameliorate the differences between Python 2 and 3"
   ]
  },
  {
   "cell_type": "markdown",
   "metadata": {},
   "source": [
    "And there's the rub:  It happens that some of these -- including `gmaps` itself -- are not available in the plain-vanilla version of `conda` we've been using (the one that is built and maintained by a company called Continuum).  So we are going to make use of a well-respected but \"community-maintained\" collection of resources called `conda-forge`.  \n",
    "\n",
    "Look:  It will take years to explain all of this, and we all have places to be.  Suffice it to say that by typing out the following on the command line, we're telling `conda` that -- whenever necessary -- it should go to a second library to look for the code we want.  It will still begin the search with the same professionally-maintained software libraries we've used so far -- but if it can't find the programs there, it is going to look elsewhere: `conda-forge`.  This repository is totally trustworthy, typically ahead of the curve, but frequently less predictable:  Think *flip-flops* instead of *business casual*."
   ]
  },
  {
   "cell_type": "markdown",
   "metadata": {},
   "source": [
    "For now, all we need to do is **open up a terminal** and add `conda-forge` to the list of channels that our installation of `conda` knows it can depend on.  Noting that I use both single and double hyphens below, type this on a command line:\n",
    "\n",
    "    conda config --add channels conda-forge\n",
    "\n",
    "Now, let's get `gmaps` -- together with all of its attendent libraries -- installed:\n",
    "\n",
    "    conda install -c conda-forge gmaps"
   ]
  }
 ],
 "metadata": {
  "kernelspec": {
   "display_name": "Python 3",
   "language": "python",
   "name": "python3"
  },
  "language_info": {
   "codemirror_mode": {
    "name": "ipython",
    "version": 3
   },
   "file_extension": ".py",
   "mimetype": "text/x-python",
   "name": "python",
   "nbconvert_exporter": "python",
   "pygments_lexer": "ipython3",
   "version": "3.6.3"
  }
 },
 "nbformat": 4,
 "nbformat_minor": 2
}
