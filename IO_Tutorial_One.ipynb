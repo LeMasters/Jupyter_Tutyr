{
 "cells": [
  {
   "cell_type": "markdown",
   "metadata": {},
   "source": [
    "# Tutorial: Getting to that Sweet, Sweet Data"
   ]
  },
  {
   "cell_type": "markdown",
   "metadata": {},
   "source": [
    "### I/O tutorial covering (in several parts) .txt, .HTML, .CSV, .XML, .JSON"
   ]
  },
  {
   "cell_type": "markdown",
   "metadata": {},
   "source": [
    "#### Digital Research Methods (LeMasters, 2018)"
   ]
  },
  {
   "cell_type": "markdown",
   "metadata": {},
   "source": [
    "Draft 2 (9 September 2018)"
   ]
  },
  {
   "cell_type": "markdown",
   "metadata": {},
   "source": [
    "I'd built some tutorials this week that demonstrated three different techniques for acquiring (and making some sense of) data from text- and HTML-based files; instead of presenting those three projects in a serial, discrete fashion, though, I've begun chopping them up and re-organizing them thematically -- I think they'll be much more useful to us that way.\n",
    "\n",
    "So, for example, instead of building an entire mini-application in one tutorial, we'll review a tutorial wherein we look at 3 different techniques for loading files; one where we look at three different ways of parsing text; and then one where we look at three approaches to rendering that data.\n",
    "\n",
    "I've never approached them problem in this way, but it looks promising.  Be sure to let me know what you think."
   ]
  },
  {
   "cell_type": "markdown",
   "metadata": {},
   "source": [
    "## Pulling text into your data science pipeline -- and getting it back out."
   ]
  },
  {
   "cell_type": "markdown",
   "metadata": {},
   "source": [
    "### I/O"
   ]
  },
  {
   "cell_type": "markdown",
   "metadata": {},
   "source": [
    "I/O is ubiquitous in computation:  It stands for In/Out.  The I/O interface is where the computer and the world meet.  There are so many ways to do this -- but in the end, there are only a few techniques that you'll return to again and again.  The biggest determining factor in your approach is (1) the kind of file you're reading and (2) its disposition in your workflow:  What comes out of that file?\n",
    "\n",
    "As we mentioned on Thursday, there are many file types you're likely to deal with, but .txt, in addition to four related filetypes, stands out as most common (for now):"
   ]
  },
  {
   "cell_type": "markdown",
   "metadata": {},
   "source": [
    "1.  **txt** | the plain-vanilla text file.  When in doubt, you can almost always read or write any kind of information into this format.  The formats below are all .txt files with fancy hats.\n",
    "2.  **HTML** | HTML (Hypertext mark-up language) is plain text that is heavily \"marked up\" with tags (words inside of angle brackets).  Because HTML is typically used to build web pages, it is heavily engaged in layout and presentation -- not just content.  And because HTML was never really intended to be used in this fashion, it is now joined by dozens of auxillary languages, scripts, and objects -- all of which tend to get in your way while you work with HTML.\n",
    "3.  **.CSV** | The venerable comma-separated-values file is the workhorse of contemporary data science.  .CSV files (and those of its fraternal twin, .TSV, tab-separated-value) tend to do a great job delivering data with a minimal amount of cruft.  Their main drawback is that they are uncompressed.  It is not uncommon to find even powerful computers choking on unnecesssarily large .CSV files.\n",
    "4.  **.JSON** | Originating with the popular web programming language javascript, the JavaScript Object Notation is a simple, efficient, and remarkably popular format:  It makes all the other formats jealous.  Many professionals who work with data science toolsets have come to prefer .JSON over .XML, in part because it simply looks less intimidating.  While APIs tend to make their data available in both formats, JSON now tends to be the default.\n",
    "5.  **.XML** | The W3C describes the Extensible Markup Language (XML) as \"a simple, very flexible text format.\"  I would call that description \"overly optimistic.\"  When we have time, we can review some .XML files and you'll see why fewer and fewer institutions seem to be depending on it like they used to."
   ]
  },
  {
   "cell_type": "markdown",
   "metadata": {},
   "source": [
    "#### Before you get started:\n",
    "\n",
    "We need some files to download.  Once you've worked through these examples, I encourage you to repeat them but do so using your own files.  To get started, though:\n",
    "\n",
    "Begin by launching Anaconda Navigator.  From there, launch Jupyter.  It will send you to the default directory listing:  If that is not where you want to store your Notebook files, then navigate to the place where you DO want to keep them.  Once you are satisfied that you are looking at the best directory for this purpose, go to the upper right hand of the browser window and choose the button/pulldown labeled NEW.  From the list it creates, choose Python 3.\n",
    "\n",
    "You should be in Jupyter now:  Let's fix the name of this notebook first.  At the top of the document, click on the word \"Untitled\" and rename the file to:\n",
    "\n",
    "    IO_Tutorial_One\n",
    "    \n",
    "Note:  The underscores look silly, but real spaces tend to make code complicated.  For example, in order to change to a directory called \"/rough draft graphics/color imgs\", I would type:  \n",
    "\n",
    "    cd /rough\\ draft\\ graphics/color\\ imgs\n",
    "\n",
    "See what I mean?  So we all try to avoid using spaces whenever possible.\n",
    "\n",
    "Save the document by clicking on the little floppy disk icon on the leftmost side of the tool ribbon.  Let's make sure we're off to a good start:  Put that browser window aside (minimize it, hide it, etc.) and open up your operating system's native file browser (the one you use everyday:  OSX uses the Finder; Windows uses Explorer).  Navigate to the directory where your Jupyter notebook should be, and make sure it is, in fact, there.  Jupyter will have added a file extension to the filename, so it should look like this:\n",
    "\n",
    "    IO_Tutorial_One.ipynb\n",
    "\n",
    "Great.  Now before you leave this directory, download [this file from our website](http://www.digitalresearch.online/IO_Tutorial_One_Data.zip) and save it in the same directory as your notebook file.\n",
    "\n",
    "Explanation:  You are downloading a compressed copy of 5 or more files inside a single folder.  This is delivered to you as a file called IO_Tutorial_One_Data.zip.  BUT MacOS may automatically unzip it for you, without asking your permission.  This can make things confusing.  If so, use the folder MacOS unzipped -- if not, unzip the file yourself and drag that folder to the same place your notebook is stored."
   ]
  },
  {
   "cell_type": "markdown",
   "metadata": {},
   "source": [
    "## PATH"
   ]
  },
  {
   "cell_type": "markdown",
   "metadata": {},
   "source": [
    "Now we need to ingest the datafile.  It is a three-step process.\n",
    "\n",
    "1.  Identify the path.  Tell Jupyter where it can find your file.\n",
    "2.  Open the file.  Tell Jupyter how to open your file.\n",
    "3.  Read the file.  Tell Jupyter where to put the data.\n",
    "\n",
    "Piece of cake!"
   ]
  },
  {
   "cell_type": "markdown",
   "metadata": {},
   "source": [
    "> Quick Question:  Why so many steps?  \n",
    "\n",
    "> It's true, all of this can be accomplished in one step.  But don't.  Spread it out so you can get a sense of what is happening.  You can compress the process once you're more confident about the component parts.\n",
    "\n",
    "> Quick Question:  Why use variables instead of just using the file's name?  \n",
    "\n",
    "> You certainly don't have to use variables - but the idea is that you won't just do this once.  You'll do it dozens, even hundreds of times in the near future.  By using a variable instead of the file's \"real\" path, you save yourself effort, and are working in the spirit of data scientists and programmers, whose motto is always DRY:  <em>Don't Repeat Yourself</em>."
   ]
  },
  {
   "cell_type": "markdown",
   "metadata": {},
   "source": [
    "## Identify the Path"
   ]
  },
  {
   "cell_type": "markdown",
   "metadata": {},
   "source": [
    "Tell Python how to find your file. The location of the file you want to load into memory is the *file path*. In our case, it is where we can find the folder called IO_Tutorial_One.  (If you haven't downloaded that yet, see the section above).\n",
    "\n",
    "Your code will reuse variables like PATH a lot.  So let's return to our Jupyter notebook and create a variable that points right to the file we need:\n",
    "\n",
    "    myFilePath = 'IO_Tutorial_One/RilkePoem.txt'\n",
    "    \n",
    "Don't forget the quotes (typically single quotes on Macs, double quotes on PCs).  And note that the variable myFilePath is arbitrary.  When I name variables that contain information specific to me, I tend to put the possessive adjective in the front -- it helps me recognize variables that are \"mine.\"  But again -- it is arbitrary:\n",
    "\n",
    "    secretNuclearStorageFacility = 'IO_Tutorial_One/RilkePoem.txt'\n",
    "\n",
    "Whatever makes sense to you is fine for now.  But generally, it should be named so that others can understand what you're doing."
   ]
  },
  {
   "cell_type": "markdown",
   "metadata": {},
   "source": [
    "### Bonus Tip"
   ]
  },
  {
   "cell_type": "markdown",
   "metadata": {},
   "source": [
    "Define your path variables way up at the top of your code, right after you import your libraries:  Those will change frequently from project to project, and by keeping them near the top, you'll spend less time searching for them."
   ]
  },
  {
   "cell_type": "markdown",
   "metadata": {},
   "source": [
    "## Open()"
   ]
  },
  {
   "cell_type": "markdown",
   "metadata": {},
   "source": [
    "Now we call Python's open() function to ask the operating system for permission to access the file.  We also need to let Jupyter know what our long-term intentions are.  There are many details you can share with Python about your file, but we only care about two:"
   ]
  },
  {
   "cell_type": "markdown",
   "metadata": {},
   "source": [
    "1.\tThe file path\n",
    "2.\tThe access mode"
   ]
  },
  {
   "cell_type": "markdown",
   "metadata": {},
   "source": [
    "We've already handled the file path.  Let's turn to the *mode*.\n",
    "\n",
    "The **mode parameter** wants to know how you will use the file:\n",
    "\n",
    "    'r' : use for reading\n",
    "    'w' : use for writing\n",
    "    'x' : use for creating and writing to a new file\n",
    "    'a' : use for appending to a file\n",
    "    'r+': use for reading and writing to the same file\n",
    "\n",
    "For the most part, 'r' is a strong choice -- you typically don't really want to overwrite your data files.\n",
    "\n",
    "Let's put these steps together, then:"
   ]
  },
  {
   "cell_type": "code",
   "execution_count": 21,
   "metadata": {},
   "outputs": [],
   "source": [
    "myFilePath = 'IO_Tutorial_One_Data/RilkePoem.txt'"
   ]
  },
  {
   "cell_type": "code",
   "execution_count": 22,
   "metadata": {},
   "outputs": [],
   "source": [
    "myPoemData = open(myFilePath, 'r')"
   ]
  },
  {
   "cell_type": "markdown",
   "metadata": {},
   "source": [
    "No complaints from Jupyter is a good sign!\n",
    "We're so close!  Let's seal the deal by reading the poem into the system!\n",
    "\n",
    "\n"
   ]
  },
  {
   "cell_type": "markdown",
   "metadata": {},
   "source": [
    "# Read()"
   ]
  },
  {
   "cell_type": "markdown",
   "metadata": {},
   "source": [
    "In order to see just what we've wrought, let's make use of Jupyter's fancy *interactive mode* again:  Instead of writing out the code that a program will execute (\"interpret\"), we're just going to talk with Python.  We can't get much calculation done this way, but it gives us a much more intimate look at internal processes that other programming languages almost never share.\n",
    "\n",
    "So then:  We've set the path, opened the file:  All that is left to do is read it."
   ]
  },
  {
   "cell_type": "code",
   "execution_count": 23,
   "metadata": {},
   "outputs": [
    {
     "data": {
      "text/plain": [
       "'Rilke,\\nArchaic Bust of Apollo\\n\\ntransl. LeMasters (after S. Mitchell)\\n\\nWe cannot know his face and all the light\\nthat ripened in his eyes. And yet his torso\\nstill glows like a gas lamp dimmed,\\nin which his gaze, now turned to low,\\n\\nholds fast and shines. Otherwise\\nthe curved breast could not dazzle you so, nor could\\na smile run through the placid hips and thighs\\nto that dark center where procreation flared.\\n\\nOtherwise this stone would seem defaced\\nbeneath the translucent cascade of the shoulders\\nand would not glisten like a wild beast’s fur:\\n\\nwould not, from all the borders of itself,\\nburst like a star: for here there is no angle from which\\nit does not see you. You must change your life.'"
      ]
     },
     "execution_count": 23,
     "metadata": {},
     "output_type": "execute_result"
    }
   ],
   "source": [
    "myPoemData.read()"
   ]
  },
  {
   "cell_type": "markdown",
   "metadata": {},
   "source": [
    "**Bam!**  *Welcome to flavor country!*  Jupyter paints the whole poem right there, line for line.  \n",
    "\n",
    "Of course, the poem looks a bit wilted, a bit crushed:  All of those '\\n' (usually called \"escape-Ns\") are usually hidden from sight.  They're called \"string literals\" — in this case, this string literal is an \"escape sequence\" called \"linefeed\" (sometimes abbreviated LF).  It is a code that originally told a printer to advance its sheet of paper to a new line — or about 5 mm."
   ]
  },
  {
   "cell_type": "markdown",
   "metadata": {},
   "source": [
    "What about those empty parentheses?  Parentheses, empty or not, almost always signify *action*.  It's useful to think in terms of grammar (because, in the end, it is a kind of grammar):\n",
    "\n",
    "    myPoemData.read()\n",
    "    \n",
    "can be understood as:\n",
    "\n",
    "    (in the imperative) \"Tell myPoemData to read itself.\"  \n",
    "    \n",
    "And it does just that, spilling the results all over our page because we didn't tell it where to store the results.  Let's do that now."
   ]
  },
  {
   "cell_type": "code",
   "execution_count": 24,
   "metadata": {},
   "outputs": [],
   "source": [
    "textOutput = myPoemData.read()"
   ]
  },
  {
   "cell_type": "markdown",
   "metadata": {},
   "source": [
    "Excellent!  The data is safely locked inside our variable textOutput.  See?"
   ]
  },
  {
   "cell_type": "code",
   "execution_count": 25,
   "metadata": {},
   "outputs": [
    {
     "name": "stdout",
     "output_type": "stream",
     "text": [
      "\n"
     ]
    }
   ],
   "source": [
    "print(textOutput)"
   ]
  },
  {
   "cell_type": "markdown",
   "metadata": {},
   "source": [
    "Umm...Wait, what?  Where's our poem?  Why didn't that work?"
   ]
  },
  {
   "cell_type": "markdown",
   "metadata": {},
   "source": [
    "Sigh.  Here's the story:  When I .read() the file to which myFileData refers, I initiate a lot of work on the computer's part.  After all, I'm moving a block of data from the file I've opened on my harddrive to be stored in another location.  Python uses a pointer (like a cursor) to keep track of the data as it gets channeled to its new home in memory.  When that pointer reaches the end of the file, it just stops -- much like the needle arm on an old-fashioned record player.  If I want to hear that song again, or if I want to see that data again, then we're going to have to move the needle ourselves."
   ]
  },
  {
   "cell_type": "markdown",
   "metadata": {},
   "source": [
    "How?  Easy.  The pointer is stored inside the data object we built.  We just need to reset it thus:"
   ]
  },
  {
   "cell_type": "code",
   "execution_count": 26,
   "metadata": {},
   "outputs": [
    {
     "data": {
      "text/plain": [
       "0"
      ]
     },
     "execution_count": 26,
     "metadata": {},
     "output_type": "execute_result"
    }
   ],
   "source": [
    "myPoemData.seek(0)"
   ]
  },
  {
   "cell_type": "markdown",
   "metadata": {},
   "source": [
    "That zero means \"success\" (I know, not very sensible, is it?).  But let's try our .read() again."
   ]
  },
  {
   "cell_type": "code",
   "execution_count": 27,
   "metadata": {},
   "outputs": [
    {
     "data": {
      "text/plain": [
       "'Rilke,\\nArchaic Bust of Apollo\\n\\ntransl. LeMasters (after S. Mitchell)\\n\\nWe cannot know his face and all the light\\nthat ripened in his eyes. And yet his torso\\nstill glows like a gas lamp dimmed,\\nin which his gaze, now turned to low,\\n\\nholds fast and shines. Otherwise\\nthe curved breast could not dazzle you so, nor could\\na smile run through the placid hips and thighs\\nto that dark center where procreation flared.\\n\\nOtherwise this stone would seem defaced\\nbeneath the translucent cascade of the shoulders\\nand would not glisten like a wild beast’s fur:\\n\\nwould not, from all the borders of itself,\\nburst like a star: for here there is no angle from which\\nit does not see you. You must change your life.'"
      ]
     },
     "execution_count": 27,
     "metadata": {},
     "output_type": "execute_result"
    }
   ],
   "source": [
    "myPoemData.read()"
   ]
  },
  {
   "cell_type": "markdown",
   "metadata": {},
   "source": [
    "*Voila!*\n",
    "\n",
    "There are many variations we can make use of, too.  Using the .seek(0) to reset the needle on the record:  Let's try them first, and then make sense of what we're seeing:"
   ]
  },
  {
   "cell_type": "code",
   "execution_count": 28,
   "metadata": {},
   "outputs": [
    {
     "data": {
      "text/plain": [
       "['Rilke,\\n',\n",
       " 'Archaic Bust of Apollo\\n',\n",
       " '\\n',\n",
       " 'transl. LeMasters (after S. Mitchell)\\n',\n",
       " '\\n',\n",
       " 'We cannot know his face and all the light\\n',\n",
       " 'that ripened in his eyes. And yet his torso\\n',\n",
       " 'still glows like a gas lamp dimmed,\\n',\n",
       " 'in which his gaze, now turned to low,\\n',\n",
       " '\\n',\n",
       " 'holds fast and shines. Otherwise\\n',\n",
       " 'the curved breast could not dazzle you so, nor could\\n',\n",
       " 'a smile run through the placid hips and thighs\\n',\n",
       " 'to that dark center where procreation flared.\\n',\n",
       " '\\n',\n",
       " 'Otherwise this stone would seem defaced\\n',\n",
       " 'beneath the translucent cascade of the shoulders\\n',\n",
       " 'and would not glisten like a wild beast’s fur:\\n',\n",
       " '\\n',\n",
       " 'would not, from all the borders of itself,\\n',\n",
       " 'burst like a star: for here there is no angle from which\\n',\n",
       " 'it does not see you. You must change your life.']"
      ]
     },
     "execution_count": 28,
     "metadata": {},
     "output_type": "execute_result"
    }
   ],
   "source": [
    "myPoemData.seek(0)\n",
    "myPoemData.readlines()"
   ]
  },
  {
   "cell_type": "markdown",
   "metadata": {},
   "source": [
    "And then:"
   ]
  },
  {
   "cell_type": "code",
   "execution_count": 35,
   "metadata": {},
   "outputs": [
    {
     "data": {
      "text/plain": [
       "'Rilke,\\n'"
      ]
     },
     "execution_count": 35,
     "metadata": {},
     "output_type": "execute_result"
    }
   ],
   "source": [
    "myPoemData.seek(0)\n",
    "myPoemData.readline()"
   ]
  },
  {
   "cell_type": "markdown",
   "metadata": {},
   "source": [
    "Ooh!  Again, without the .seek(0)?"
   ]
  },
  {
   "cell_type": "code",
   "execution_count": 36,
   "metadata": {},
   "outputs": [
    {
     "data": {
      "text/plain": [
       "'Archaic Bust of Apollo\\n'"
      ]
     },
     "execution_count": 36,
     "metadata": {},
     "output_type": "execute_result"
    }
   ],
   "source": [
    "myPoemData.readline()"
   ]
  },
  {
   "cell_type": "markdown",
   "metadata": {},
   "source": [
    "Interesting.  We're moving line by line, right?  Let's see:"
   ]
  },
  {
   "cell_type": "code",
   "execution_count": 37,
   "metadata": {},
   "outputs": [
    {
     "data": {
      "text/plain": [
       "'\\n'"
      ]
     },
     "execution_count": 37,
     "metadata": {},
     "output_type": "execute_result"
    }
   ],
   "source": [
    "myPoemData.readline()"
   ]
  },
  {
   "cell_type": "code",
   "execution_count": 44,
   "metadata": {},
   "outputs": [
    {
     "data": {
      "text/plain": [
       "'transl. LeMasters (after S. Mitchell)\\n'"
      ]
     },
     "execution_count": 44,
     "metadata": {},
     "output_type": "execute_result"
    }
   ],
   "source": [
    "myPoemData.readline()"
   ]
  },
  {
   "cell_type": "markdown",
   "metadata": {},
   "source": [
    "Fine.  So, self-evidently, we need to get the data into a more dependable place:  I don't want to reset a variable every time I read it.  So this time, we'll just \"read\" it into a new variable for safekeeping."
   ]
  },
  {
   "cell_type": "code",
   "execution_count": 46,
   "metadata": {},
   "outputs": [],
   "source": [
    "myPoemData.seek(0)  # reset our pointer\n",
    "workingPoemData = myPoemData.read()"
   ]
  },
  {
   "cell_type": "markdown",
   "metadata": {},
   "source": [
    "And then let's peer into the new variable and see what's up."
   ]
  },
  {
   "cell_type": "code",
   "execution_count": 47,
   "metadata": {},
   "outputs": [
    {
     "name": "stdout",
     "output_type": "stream",
     "text": [
      "Rilke,\n",
      "Archaic Bust of Apollo\n",
      "\n",
      "transl. LeMasters (after S. Mitchell)\n",
      "\n",
      "We cannot know his face and all the light\n",
      "that ripened in his eyes. And yet his torso\n",
      "still glows like a gas lamp dimmed,\n",
      "in which his gaze, now turned to low,\n",
      "\n",
      "holds fast and shines. Otherwise\n",
      "the curved breast could not dazzle you so, nor could\n",
      "a smile run through the placid hips and thighs\n",
      "to that dark center where procreation flared.\n",
      "\n",
      "Otherwise this stone would seem defaced\n",
      "beneath the translucent cascade of the shoulders\n",
      "and would not glisten like a wild beast’s fur:\n",
      "\n",
      "would not, from all the borders of itself,\n",
      "burst like a star: for here there is no angle from which\n",
      "it does not see you. You must change your life.\n"
     ]
    }
   ],
   "source": [
    "print(workingPoemData)"
   ]
  },
  {
   "cell_type": "markdown",
   "metadata": {},
   "source": [
    "# Recap"
   ]
  },
  {
   "cell_type": "markdown",
   "metadata": {},
   "source": [
    "OK:  That was a lot, and not-a-lot, all at once.  Just to recall the most important points in the form of working code:"
   ]
  },
  {
   "cell_type": "code",
   "execution_count": 51,
   "metadata": {},
   "outputs": [
    {
     "name": "stdout",
     "output_type": "stream",
     "text": [
      "Rilke,\n",
      "Archaic Bust of Apollo\n",
      "\n",
      "transl. LeMasters (after S. Mitchell)\n",
      "\n",
      "We cannot know his face and all the light\n",
      "that ripened in his eyes. And yet his torso\n",
      "still glows like a gas lamp dimmed,\n",
      "in which his gaze, now turned to low,\n",
      "\n",
      "holds fast and shines. Otherwise\n",
      "the curved breast could not dazzle you so, nor could\n",
      "a smile run through the placid hips and thighs\n",
      "to that dark center where procreation flared.\n",
      "\n",
      "Otherwise this stone would seem defaced\n",
      "beneath the translucent cascade of the shoulders\n",
      "and would not glisten like a wild beast’s fur:\n",
      "\n",
      "would not, from all the borders of itself,\n",
      "burst like a star: for here there is no angle from which\n",
      "it does not see you. You must change your life.\n"
     ]
    }
   ],
   "source": [
    "myFilePath = 'IO_Tutorial_One_Data/RilkePoem.txt'\n",
    "myPoemData = open(myFilePath, 'r')\n",
    "workingPoemData = myPoemData.read()\n",
    "print(workingPoemData)"
   ]
  },
  {
   "cell_type": "markdown",
   "metadata": {},
   "source": [
    "Of course, I can get any flatfile this way -- as long as it isn't a binary file.  All of these will work just as well:"
   ]
  },
  {
   "cell_type": "code",
   "execution_count": 53,
   "metadata": {},
   "outputs": [],
   "source": [
    "myFilePathA = 'IO_Tutorial_One_Data/RilkePoem.csv'\n",
    "myFilePathB = 'IO_Tutorial_One_Data/RilkePoem.html'\n",
    "# and even the related style sheet:\n",
    "myFilePathC = 'IO_Tutorial_One_Data/main.css'"
   ]
  },
  {
   "cell_type": "code",
   "execution_count": 57,
   "metadata": {},
   "outputs": [
    {
     "name": "stdout",
     "output_type": "stream",
     "text": [
      "<!DOCTYPE html>\n",
      "<!--[if lt IE 7]>      <html class=\"no-js lt-ie9 lt-ie8 lt-ie7\"> <![endif]-->\n",
      "<!--[if IE 7]>         <html class=\"no-js lt-ie9 lt-ie8\"> <![endif]-->\n",
      "<!--[if IE 8]>         <html class=\"no-js lt-ie9\"> <![endif]-->\n",
      "<!--[if gt IE 8]><!--> <html class=\"no-js\"> <!--<![endif]-->\n",
      "    <head>\n",
      "        <meta charset=\"utf-8\">\n",
      "        <meta http-equiv=\"X-UA-Compatible\" content=\"IE=edge\">\n",
      "        <title></title>\n",
      "        <meta name=\"description\" content=\"\">\n",
      "        <meta name=\"viewport\" content=\"width=device-width, initial-scale=1\">\n",
      "\n",
      "        <!-- Place favicon.ico and apple-touch-icon.png in the root directory -->\n",
      "\n",
      "\t\t<link rel='stylesheet' href='css/main.css'>\n",
      "\t\t<link rel='stylesheet' href='css/normalize.min.css'>\n",
      "\t\t<script src='js/vendor/modernizr-2.6.2.min.js'></script>\n",
      "    </head>\n",
      "    <body>\n",
      "\t\t<!--[if lt IE 7]>\n",
      "\t\t<p class=\"browsehappy\">You are using an <strong>outdated</strong> browser. Please <a href=\"http://browsehappy.com/\">upgrade your browser</a> to improve your experience.</p>\n",
      "\t\t<![endif]-->\n",
      "\n",
      "        <!-- Add your site or application content here -->\n",
      "        <div class=\"poem\">\n",
      "        <h3>Rilke</h3>\n",
      "        <h2 class=\"title\">  Archaic Bust of Apollo</h2>\n",
      "        \n",
      "        <div class=\"verse\">\n",
      "        <p>We cannot know his face and all the light</p>\n",
      "        <p>that ripened in his eyes. And yet his torso</p>\n",
      "        <p>still glows like a gas lamp dimmed,</p>\n",
      "        <p>and from therein his gaze, now turned to low,</p>\n",
      "\t\t</div>\n",
      "        \n",
      "        <div class=\"verse\">\n",
      "        <p>holds fast and shines. Otherwise</p>\n",
      "        <p>the curved breast could not dazzle you so, nor could</p>\n",
      "        <p>a smile run through the placid hips and thighs</p>\n",
      "        <p>to that dark center where procreation flared.</p>\n",
      "\t\t</div>\n",
      "        \n",
      "        <div class=\"verse\">\n",
      "        <p>Otherwise this stone would seem defaced</p>\n",
      "        <p>beneath the translucent cascade of the shoulders</p>\n",
      "        <p>and would not glisten like a wild beast’s fur:</p>\n",
      "\t\t</div>\n",
      "        \n",
      "        <div class=\"verse\">\n",
      "        <p>would not, from all the borders of itself,</p>\n",
      "        <p>burst like a star: for here there is no angle from which</p>\n",
      "        <p>it does not see you. You must change your life.</p>\n",
      "\t\t</div>\n",
      "\t\t</div>\n",
      "\n",
      "        <script src=\"//ajax.googleapis.com/ajax/libs/jquery/1.10.2/jquery.min.js\"></script>\n",
      "        <script>window.jQuery || document.write('<script src=\"js/vendor/jquery-1.10.2.min.js\"><\\/script>')</script>\n",
      "        <script src='js/main.js'></script>\n",
      "    </body>\n",
      "</html>\n",
      "\n"
     ]
    }
   ],
   "source": [
    "myPoemDataB = open(myFilePathB, 'r')\n",
    "workingPoemDataB = myPoemDataB.read()\n",
    "print(workingPoemDataB)"
   ]
  },
  {
   "cell_type": "markdown",
   "metadata": {},
   "source": [
    "Now its your turn.  Grab a few text files and write out enough code in Jupyter to pull those files in and display them."
   ]
  }
 ],
 "metadata": {
  "kernelspec": {
   "display_name": "Python 3",
   "language": "python",
   "name": "python3"
  },
  "language_info": {
   "codemirror_mode": {
    "name": "ipython",
    "version": 3
   },
   "file_extension": ".py",
   "mimetype": "text/x-python",
   "name": "python",
   "nbconvert_exporter": "python",
   "pygments_lexer": "ipython3",
   "version": "3.6.3"
  }
 },
 "nbformat": 4,
 "nbformat_minor": 2
}
