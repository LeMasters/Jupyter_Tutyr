{
 "cells": [
  {
   "cell_type": "markdown",
   "metadata": {},
   "source": [
    "## Quick Reference: Data Types"
   ]
  },
  {
   "cell_type": "markdown",
   "metadata": {},
   "source": [
    "Data comes in all shapes and sizes.  Every data point is a precious snowflake, to be sure, but there's more to it than that:  Structure matters.  While .CSV and .XLS files often seem to imply that data is ideally stored in a uniform adjacency matrix, our experience in the world suggests otherwise.\n",
    "\n",
    "Python boasts a significant number of data structure libraries that allow you both to store your data in a meaningful fashion and help you to find significance in adjacency, repetition, lacunae, and so on."
   ]
  },
  {
   "cell_type": "markdown",
   "metadata": {},
   "source": [
    ">You should play around with these formats a bit in order to become familiar with the most common ones, but don't worry about memorizing it -- especially if it isn't a type you're likely to make use of.  Just keep this list in your hip pocket, so to speak, and you can refer to it when you need to."
   ]
  },
  {
   "cell_type": "markdown",
   "metadata": {},
   "source": [
    "## Lists"
   ]
  },
  {
   "cell_type": "markdown",
   "metadata": {},
   "source": [
    "Make use of square brackets to store data in a list.  They are so easy to create and Python gives us a dozen special tools with which to manipulate them:  It isn't hard to find a reason to include lists in your code."
   ]
  },
  {
   "cell_type": "code",
   "execution_count": 8,
   "metadata": {},
   "outputs": [],
   "source": [
    "lottery_numbers = [39,76,34,65,30,12]"
   ]
  },
  {
   "cell_type": "code",
   "execution_count": 9,
   "metadata": {},
   "outputs": [
    {
     "name": "stdout",
     "output_type": "stream",
     "text": [
      "[39, 76, 34, 65, 30, 12]\n"
     ]
    }
   ],
   "source": [
    "print(lottery_numbers)"
   ]
  },
  {
   "cell_type": "code",
   "execution_count": 10,
   "metadata": {},
   "outputs": [],
   "source": [
    "lottery_numbers.append(99)"
   ]
  },
  {
   "cell_type": "markdown",
   "metadata": {},
   "source": [
    "This \"dot syntax\"-style statement has shown up before:  Remember myPoemData.read()?  Typically it starts with an object or a thing, myPoemData, and then we attach an action to the object, using a dot (a period) as the glue.  Parentheses usually mean \"this is an action\" (also called a \"function\" or a \"method\").  Our  action/verb/attachment usually operates on the object to which it is attached... If there is something inside those parentheses, then that value is probably being delivered to the object.\n",
    "\n",
    "In the case above, the .append(n) method adds one more item to the current list.  The value inside the parentheses is the item to be added!"
   ]
  },
  {
   "cell_type": "code",
   "execution_count": 11,
   "metadata": {},
   "outputs": [
    {
     "name": "stdout",
     "output_type": "stream",
     "text": [
      "[39, 76, 34, 65, 30, 12, 99]\n"
     ]
    }
   ],
   "source": [
    "print(lottery_numbers)"
   ]
  },
  {
   "cell_type": "markdown",
   "metadata": {},
   "source": [
    "Of course, it works with strings (text) too!"
   ]
  },
  {
   "cell_type": "code",
   "execution_count": 12,
   "metadata": {},
   "outputs": [],
   "source": [
    "dance_card = ['Darcy', 'Wickham', 'Bingley', 'Fitzwilliam']"
   ]
  },
  {
   "cell_type": "markdown",
   "metadata": {},
   "source": [
    "Let's give Mr. Darcy a fighting chance, shall we?"
   ]
  },
  {
   "cell_type": "code",
   "execution_count": 13,
   "metadata": {},
   "outputs": [],
   "source": [
    "dance_card.append('Darcy')"
   ]
  },
  {
   "cell_type": "code",
   "execution_count": 14,
   "metadata": {},
   "outputs": [
    {
     "name": "stdout",
     "output_type": "stream",
     "text": [
      "['Darcy', 'Wickham', 'Bingley', 'Fitzwilliam', 'Darcy']\n"
     ]
    }
   ],
   "source": [
    "print(dance_card)"
   ]
  },
  {
   "cell_type": "markdown",
   "metadata": {},
   "source": [
    "Of course, we can find out how many dances we have queued up by asking for the len (i.e., the length) of the list like so:"
   ]
  },
  {
   "cell_type": "code",
   "execution_count": 19,
   "metadata": {},
   "outputs": [
    {
     "name": "stdout",
     "output_type": "stream",
     "text": [
      "5\n"
     ]
    }
   ],
   "source": [
    "print(len(dance_card))"
   ]
  },
  {
   "cell_type": "markdown",
   "metadata": {},
   "source": [
    "We can do the same of the lottery numbers, too:"
   ]
  },
  {
   "cell_type": "code",
   "execution_count": 20,
   "metadata": {},
   "outputs": [
    {
     "name": "stdout",
     "output_type": "stream",
     "text": [
      "7\n"
     ]
    }
   ],
   "source": [
    "print(len(lottery_numbers))"
   ]
  },
  {
   "cell_type": "markdown",
   "metadata": {},
   "source": [
    "There is more, but let's end by mentioning a common practice:  Looping Over Lists.  I'll show you briefly how it works.  Then try your hand at creating a few lists of your own.  They may seem pointless at the moment -- but that's just because we haven't connected them to a data pipeline.  Then, they shine.\n",
    "\n",
    "Looping is common in computation, and it usually is indicated by a phrase like \"for/next\".  In Python, we use \"for/in\":"
   ]
  },
  {
   "cell_type": "code",
   "execution_count": 21,
   "metadata": {},
   "outputs": [
    {
     "name": "stdout",
     "output_type": "stream",
     "text": [
      "Darcy\n",
      "Wickham\n",
      "Bingley\n",
      "Fitzwilliam\n",
      "Darcy\n"
     ]
    }
   ],
   "source": [
    "for dude in dance_card:\n",
    "    print(dude)"
   ]
  },
  {
   "cell_type": "markdown",
   "metadata": {},
   "source": [
    "Again, these variables are arbitrarily named -- use whatever makes sense to you.  The version above says, in effect, \"For each dude in the dance_card list, print that dude's name.\"  But we could be snarky, too, and it'll still work."
   ]
  },
  {
   "cell_type": "code",
   "execution_count": 22,
   "metadata": {},
   "outputs": [
    {
     "name": "stdout",
     "output_type": "stream",
     "text": [
      "Darcy\n",
      "Wickham\n",
      "Bingley\n",
      "Fitzwilliam\n",
      "Darcy\n"
     ]
    }
   ],
   "source": [
    "for creep in dance_card:\n",
    "    print(creep)"
   ]
  },
  {
   "cell_type": "markdown",
   "metadata": {},
   "source": [
    "Of course, this works for numeric values, too."
   ]
  },
  {
   "cell_type": "code",
   "execution_count": 24,
   "metadata": {},
   "outputs": [
    {
     "name": "stdout",
     "output_type": "stream",
     "text": [
      "39\n",
      "76\n",
      "34\n",
      "65\n",
      "30\n",
      "12\n",
      "99\n"
     ]
    }
   ],
   "source": [
    "for lucky_number in lottery_numbers:\n",
    "    print(lucky_number)"
   ]
  },
  {
   "cell_type": "markdown",
   "metadata": {},
   "source": [
    "## Bonus Tip:  Sort"
   ]
  },
  {
   "cell_type": "markdown",
   "metadata": {},
   "source": [
    "Everyone loves a sorted list.  *Everyone*.  See how easily a list is sorted?  "
   ]
  },
  {
   "cell_type": "code",
   "execution_count": 27,
   "metadata": {},
   "outputs": [
    {
     "name": "stdout",
     "output_type": "stream",
     "text": [
      "['Bingley', 'Darcy', 'Darcy', 'Fitzwilliam', 'Wickham']\n"
     ]
    }
   ],
   "source": [
    "print(dance_card)"
   ]
  },
  {
   "cell_type": "code",
   "execution_count": 25,
   "metadata": {},
   "outputs": [],
   "source": [
    "dance_card.sort() # this line tells Python to perform a sort on the dance_card."
   ]
  },
  {
   "cell_type": "code",
   "execution_count": 26,
   "metadata": {},
   "outputs": [
    {
     "name": "stdout",
     "output_type": "stream",
     "text": [
      "['Bingley', 'Darcy', 'Darcy', 'Fitzwilliam', 'Wickham']\n"
     ]
    }
   ],
   "source": [
    "print(dance_card)"
   ]
  }
 ],
 "metadata": {
  "kernelspec": {
   "display_name": "Python 3",
   "language": "python",
   "name": "python3"
  },
  "language_info": {
   "codemirror_mode": {
    "name": "ipython",
    "version": 3
   },
   "file_extension": ".py",
   "mimetype": "text/x-python",
   "name": "python",
   "nbconvert_exporter": "python",
   "pygments_lexer": "ipython3",
   "version": "3.6.3"
  }
 },
 "nbformat": 4,
 "nbformat_minor": 2
}
